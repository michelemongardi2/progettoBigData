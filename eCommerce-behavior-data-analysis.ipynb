{
 "cells": [
  {
   "cell_type": "markdown",
   "id": "0c0cbab5",
   "metadata": {},
   "source": [
    "# BIG DATA PROJECT - eCommerce behavior data analysis"
   ]
  },
  {
   "cell_type": "markdown",
   "id": "42d745b1",
   "metadata": {},
   "source": [
    "Il dataset sottoposto ad esame può essere recuperato al [seguente link](https://www.kaggle.com/datasets/mkechinov/ecommerce-behavior-data-from-multi-category-store?resource=download). Esso contiene dati comportamentali relativi ad eventi generati dagli utenti all’interno di un portale di e-commerce. Il dataset è relativo al mese di Novembre 2019, contiene più di 1 milione di record e ha una dimensione di 8.38GB. \n",
    "I record di cui il dataset si compone possono essere di diverse tipologie: \n",
    "\n",
    "- ```view```: un utente ha visualizzato un prodotto\n",
    "- ```cart```: un utente ha inserito un prodotto nel carrello \n",
    "- ```purchase```: un utente ha acquistato un prdotto\n",
    "- ```remove_from_cart```: un utente ha rimosso dal carrello un prodotto\n",
    "\n",
    "Come anticipato, ogni riga del file identifica un evento. Tutti gli eventi fanno riferimento ad un interazione tra un utente e un prodotto disponibile sull'e-commerce.\n",
    "I dati sono stati collezionati da [Open CDP](https://rees46.com/en/open-cdp) e sono stati utilizzati in conformità con la licenza *Data files © Original Authors*."
   ]
  },
  {
   "cell_type": "markdown",
   "id": "e351a253",
   "metadata": {},
   "source": [
    "## Semantica dei dati e Struttura del file\n",
    "\n",
    "Per poter comprendere la semantica che descrive i record memorizzati all'intero del dataset è possibile seguire il seguente schema: \n",
    "\n",
    "*L'utente ```user_id``` durante la sessione ```user_session``` ha aggiunto al carrello (```event_type``` di tipo ```cart```) il prodotto ```product_id``` del brand ```brand``` appartenente alla categoria ```category_code```  con prezzo \n",
    "```price```. L'evento è stato generato nel momento ```event_time```*.\n",
    "\n",
    "Inoltre, esplorando il **file CSV** relativo al dataset è possibile identificare la seguente struttura:\n",
    "\n",
    "- ```event_time```: momento in cui l'evento è avvenuto (UTC)\n",
    "- ```event_type```: tipo di evento avvenuto (view, cart, purchase)\n",
    "- ```product_id```: Id del prodotto interessato\n",
    "- ```category_id```: Id della categoria a cui appartiene il prodotto\n",
    "- ```category_code```: categoria di appartenenza del prodotto\n",
    "- ```brand```: brand di apparteneza del prodotto\n",
    "- ```price```: prezzo del prodotto\n",
    "- ```user_id```: Id dell'utente che ha generato l'evento\n",
    "- ```user_session```: Id della sessione utente. Questo ID di sessione rimane lo stesso per tutte le sessioni di quel particolare utente. Tuttavia, quando l'utente visita nuovamente l'e-commerce dopo una lunga pausa, l'ID di sessione viene modificato.\n",
    "\n",
    "&Egrave; importante notare che una singola *user_session* possa includere più eventi, in quanto potrebbero essere stati acquistati più prodotti durante la sessione. Questa informazione sarà utile in fase di analisi."
   ]
  },
  {
   "cell_type": "markdown",
   "id": "cf110d1b",
   "metadata": {},
   "source": [
    "## Finalità dell'analisi"
   ]
  },
  {
   "cell_type": "markdown",
   "id": "429a72c1",
   "metadata": {},
   "source": [
    "L'obiettivo di progetto è quello di analizzare il dataset in modalità **batch**, al fine di estrarre informazioni utili sui dati raccolti, anche a fini statistici.\n",
    "A seguito di un’analisi preliminare sui dati, sono emersi diversi interrogativi a cui si è cercato di dare risposta:\n",
    "\n",
    "- qual è il numero di dei prodotti visualizzati (view)?\n",
    "- qual è il numero dei prodotti aggiunti al carrello (cart)?\n",
    "- qual è il numero dei prodotti acquistati (purchase)?\n",
    "- qual è il numero degli ordini distinti?\n",
    "- qual è il numero di acquisti effettuati per utente?\n",
    "- quale, tra i prodotti venduti, è il meno costoso? quale il più costoso? qual è il range dei prezzi?\n",
    "- quanti acquisti effettua ogni utente in media?\n",
    "- qual è il prezzo medio relativo ai prodotti venduti?\n",
    "- qual è il costo medio di un acquisto sapendo che un ordine può comprendere più prodotti?\n",
    "- sulla base delle vendite effettuate, quante sono le vendite per ogni brand? \n",
    "- qual è l’incasso ottenuto da ogni brand?\n",
    "- sulla base degli incassi dalle vendite, quali sono le categorie prodotto più fruttuose in termini di denaro e in termini di vendite totali (quindi le più popolari)? \n",
    "- sulla base dei prodotti, quanti di questi sono stati visti, aggiunti al carrello e acquistati? \n",
    "- per ogni categoria “principale”, quali sono le sottocategorie ad esse associate?\n",
    "- come sono classificati i brand sulla base del ricavato totale?\n",
    "- qual è la relazione tra le categorie di prodotti e la distribuzione dei brand, avendo applicato un criterio di classificazione sui brand usando come metrica la media dei prezzi dei prodotti venduti da ciascun brand?\n",
    "\n",
    "L'approccio utilizzato seguirà quello evidenziato durante le lezioni del corso: in primo luogo si prenderanno in considerazione le tematiche relative alle diverse possibili configurazioni del cluster, richiamando le formule teoriche per definire la configurazione del cluster ottimale. Si approfondirà quindi il tuning in termini di CPU e memoria. Si entrerà poi nel merito del caching di un RDD e delle possibili ottimizzazioni. Nella fase successiva si effettuerà l'analisi vera e propria del dataset attraverso **query esplorative** e **query** più **complesse**. Per finire, i risultati ottenuti verranno caricati su **Tableau Desktop** al fine di visualizzarli e manipolarli graficamente."
   ]
  },
  {
   "cell_type": "markdown",
   "id": "24c7dd7b",
   "metadata": {},
   "source": [
    "## Configurazione del Cluster\n",
    "\n",
    "Il servizio ```EMR (Elastic MapReduce)``` di **AWS** è un servizio di cloud computing che consente di eseguire e gestire in modo semplice e scalabile framework di elaborazione di dati come *Apache Hadoop* e *Apache Spark*. EMR semplifica la configurazione, la distribuzione e la gestione di **cluster** di grandi dimensioni per l'elaborazione e l'analisi di grandi quantità di dati. Il servizio gestisce automaticamente il monitoraggio, la scalabilità e la tolleranza ai guasti del cluster. \n",
    "\n",
    "EMR offre integrazioni con altri servizi AWS, ad esempio con ```Amazon S3``` per l'archiviazione dei dati, e con ```Amazon EC2``` per le istanze di calcolo. In particolare, **EC2 (Elastic Compute Cloud)** è un servizio di computing scalabile e flessibile in stretta relazione con EMR, che consente di creare e gestire istanze virtuali nel cloud AWS. Queste istanze sono macchine virtuali che eseguono un'ampia varietà di sistemi operativi, consentendo di eseguire applicazioni e servizi in un ambiente cloud altamente affidabile e scalabile.\n",
    "\n",
    "### Cluster Nodes\n",
    "\n",
    "Considerando la configurazione dei cluster utilizzata durante le lezioni, si deciso di riutilizzare il medesimo setup. Tramite EMR si è quindi definita una configurazione che si compone di ```un'istanza Master``` [m5.xlarge](https://aws.amazon.com/it/ec2/instance-types/m5/) con 4 vCore e 16GB di memoria RAM, e di ```due istanze Slave``` [m5.xlarge](https://aws.amazon.com/it/ec2/instance-types/m5/), entrambe con 4 vCore e 16GB di memoria RAM.\n",
    "\n",
    "La versione di EMR utilizzata è la *6.10.0*. Le istanza virtuali del cluster sono state configurate con i seguenti pacchetti: \n",
    "\n",
    "- Hadoop 3.3.3\n",
    "- Hive 3.1.3\n",
    "- JupyterEnterpriseGateway 2.6.0\n",
    "- Spark 3.3.1\n",
    "- Livy 0.7.1\n",
    "\n",
    "### Tuning numero di Core\n",
    "\n",
    "In un cluster Spark, vengono eseguiti sulle diverse macchine disponibili degli ```executor```, processi responsabili dell'esecuzione delle attività di elaborazione dei dati. Essi lavorano insieme per elaborare i dati in modo parallelo e distribuito. Ogni executor esegue i compiti assegnati loro dal **driver** di Spark, che coordina l'elaborazione dell'applicazione Spark. Gli executor possono essere visti come i lavoratori del sistema, responsabili dell'esecuzione effettiva delle operazioni di trasformazione e azione sui dati.\n",
    "Dal punto di vista teorico, si è osservato che una configurazione preferita per definire il *numero di executor* da allocare sulle macchine del cluster consiste nell'avere un numero limitato di executor con un elevato numero di core assegnati a ciascuno di essi. Questo approccio è vantaggioso perché, all'interno di ogni executor, la presenza di numerosi core consente l'esecuzione simultanea di più task.\n",
    "\n",
    "Le linee guida per una configurazione efficiente di un cluster suggeriscono che il numero di core assegnati a ciascun executor dovrebbe essere compreso tra 3 e 5, lasciando almeno un core libero nelle macchine per il funzionamento del sistema operativo e di altri servizi.\n",
    "\n",
    "Fatta questa premessa è possibile arrivare ad indicare quanti executor è possibile allocare all'interno del cluster: \n",
    " - (core disponibili per nodo - un core per gli altri servizi)/ numero di core per executor => (4-1)/3 = **1 executor per nodo**\n",
    " \n",
    "### Tuning Memoria RAM\n",
    "Nel contesto della gestione della memoria, è importante considerare diversi aspetti. Quando si allocano grandi quantità di memoria agli executor, possono verificarsi problemi legati alla Garbage Collection. Pertanto, è consigliabile non superare i 64 GB di RAM per ogni executor, anche se questa considerazione non si applica alla configurazione attuale. Inoltre, è necessario assicurarsi di lasciare abbastanza memoria disponibile per eseguire altri processi sul sistema.\n",
    "\n",
    "Per di più, è importante notare che la memoria richiesta non corrisponde esattamente alla quantità di memoria allocata da Spark: la parte di memoria richiesta dall'utente viene utilizzata per caricare gli RDD, gestire la cache, gestire gli shuffle ecc... Spark però alloca una porzione di memoria off-heap per gestire i suoi overhead per la gestione dei container. Questo surplus di memoria aggiuntiva varia da un minimo di **384 MB** fino a un massimo del **10% della memoria richiesta**. \n",
    "\n",
    "A questo punto, è possibile determinare la quantità di memoria RAM da allocare per ciascun executor. Considerando l'ipotesi di riservare il 25% delle risorse per altri servizi e il 10% per il surplus richiesto da Spark, possiamo dividere le risorse rimanenti per il numero di executor presenti in ciascun nodo:\n",
    "- {(RAM disponibile per nodo * risorse disponibili) * (off-heap)}/numero di executor per nodo => {(16 * 0.75) * (1-0.1)}/1 = **10.8GB di RAM per executor**\n",
    "\n",
    "Nonostante il calcolo iniziale indicasse un'allocazione di 11 GB di memoria RAM per ogni executor, tale quantità supera il limite massimo predefinito consentito nel cluster EMR di YARN. Pertanto, è stata presa la decisione di limitare l'allocazione di memoria a 8 GB per ogni executor al fine di rimanere all'interno dei limiti consentiti dal cluster. \n",
    "\n",
    "A fronte di ciò, la configurazione utilizzata è la seguente:\n",
    "\n",
    "- 2 executor (uno per nodo) con 3 core ciascuno \n",
    "- 8GB di memoria per executor"
   ]
  },
  {
   "cell_type": "code",
   "execution_count": 1,
   "id": "c6f50b06",
   "metadata": {
    "execution": {
     "iopub.execute_input": "2023-06-09T08:00:06.529902Z",
     "iopub.status.busy": "2023-06-09T08:00:06.529592Z",
     "iopub.status.idle": "2023-06-09T08:00:07.105204Z",
     "shell.execute_reply": "2023-06-09T08:00:07.104333Z",
     "shell.execute_reply.started": "2023-06-09T08:00:06.529877Z"
    },
    "tags": []
   },
   "outputs": [
    {
     "data": {
      "text/html": [
       "Current session configs: <tt>{'executorMemory': '8G', 'numExecutors': 2, 'executorCores': 3, 'conf': {'spark.dynamicAllocation.enabled': 'false'}, 'proxyUser': 'assumed-role_voclabs_user2586261_michele_mongardi2_studio_unibo_it', 'kind': 'spark'}</tt><br>"
      ],
      "text/plain": [
       "<IPython.core.display.HTML object>"
      ]
     },
     "metadata": {},
     "output_type": "display_data"
    },
    {
     "data": {
      "text/html": [
       "No active sessions."
      ],
      "text/plain": [
       "<IPython.core.display.HTML object>"
      ]
     },
     "metadata": {},
     "output_type": "display_data"
    }
   ],
   "source": [
    "%%configure -f\n",
    "{\"executorMemory\":\"8G\", \"numExecutors\":2, \"executorCores\":3, \"conf\": {\"spark.dynamicAllocation.enabled\": \"false\"}}"
   ]
  },
  {
   "cell_type": "code",
   "execution_count": 1,
   "id": "169f76d1",
   "metadata": {
    "execution": {
     "iopub.execute_input": "2023-06-12T09:06:38.457041Z",
     "iopub.status.busy": "2023-06-12T09:06:38.456730Z",
     "iopub.status.idle": "2023-06-12T09:07:27.590315Z",
     "shell.execute_reply": "2023-06-12T09:07:27.589501Z",
     "shell.execute_reply.started": "2023-06-12T09:06:38.457015Z"
    },
    "tags": []
   },
   "outputs": [
    {
     "data": {
      "application/vnd.jupyter.widget-view+json": {
       "model_id": "deeb84bd67544d79ac325731c624be22",
       "version_major": 2,
       "version_minor": 0
      },
      "text/plain": [
       "VBox()"
      ]
     },
     "metadata": {},
     "output_type": "display_data"
    },
    {
     "name": "stdout",
     "output_type": "stream",
     "text": [
      "Starting Spark application\n"
     ]
    },
    {
     "data": {
      "text/html": [
       "<table>\n",
       "<tr><th>ID</th><th>YARN Application ID</th><th>Kind</th><th>State</th><th>Spark UI</th><th>Driver log</th><th>User</th><th>Current session?</th></tr><tr><td>0</td><td>application_1686559935583_0001</td><td>spark</td><td>idle</td><td><a target=\"_blank\" href=\"http://ip-172-31-25-242.ec2.internal:20888/proxy/application_1686559935583_0001/\" class=\"emr-proxy-link\" emr-resource=\"j-3AJ973S501S2R\n",
       "\" application-id=\"application_1686559935583_0001\">Link</a></td><td><a target=\"_blank\" href=\"http://ip-172-31-19-40.ec2.internal:8042/node/containerlogs/container_1686559935583_0001_01_000001/livy\" >Link</a></td><td>None</td><td>✔</td></tr></table>"
      ],
      "text/plain": [
       "<IPython.core.display.HTML object>"
      ]
     },
     "metadata": {},
     "output_type": "display_data"
    },
    {
     "data": {
      "application/vnd.jupyter.widget-view+json": {
       "model_id": "",
       "version_major": 2,
       "version_minor": 0
      },
      "text/plain": [
       "FloatProgress(value=0.0, bar_style='info', description='Progress:', layout=Layout(height='25px', width='50%'),…"
      ]
     },
     "metadata": {},
     "output_type": "display_data"
    },
    {
     "name": "stdout",
     "output_type": "stream",
     "text": [
      "SparkSession available as 'spark'.\n"
     ]
    },
    {
     "data": {
      "application/vnd.jupyter.widget-view+json": {
       "model_id": "",
       "version_major": 2,
       "version_minor": 0
      },
      "text/plain": [
       "FloatProgress(value=0.0, bar_style='info', description='Progress:', layout=Layout(height='25px', width='50%'),…"
      ]
     },
     "metadata": {},
     "output_type": "display_data"
    },
    {
     "name": "stdout",
     "output_type": "stream",
     "text": [
      "bucketname: String = unibo-bd2223-mmongardiproject\n",
      "path_events_ecommerce: String = s3a://unibo-bd2223-mmongardiproject/datasets/project/2019-Nov.csv\n",
      "res2: String = SPARK UI: Enable forwarding of port 20888 and connect to http://localhost:20888/proxy/application_1686559935583_0001/\n"
     ]
    }
   ],
   "source": [
    "val bucketname = \"unibo-bd2223-mmongardiproject\"\n",
    "val path_events_ecommerce = \"s3a://\"+bucketname+\"/datasets/project/2019-Nov.csv\"\n",
    "\n",
    "\"SPARK UI: Enable forwarding of port 20888 and connect to http://localhost:20888/proxy/\" + sc.applicationId + \"/\""
   ]
  },
  {
   "cell_type": "markdown",
   "id": "df3299c6",
   "metadata": {},
   "source": [
    "### Inizializzazione degli oggetti per strutturare l'RDD degli eventi"
   ]
  },
  {
   "cell_type": "code",
   "execution_count": 7,
   "id": "e9077690",
   "metadata": {
    "execution": {
     "iopub.execute_input": "2023-06-11T17:04:10.311953Z",
     "iopub.status.busy": "2023-06-11T17:04:10.311653Z",
     "iopub.status.idle": "2023-06-11T17:04:11.609042Z",
     "shell.execute_reply": "2023-06-11T17:04:11.608311Z",
     "shell.execute_reply.started": "2023-06-11T17:04:10.311929Z"
    },
    "tags": []
   },
   "outputs": [
    {
     "data": {
      "application/vnd.jupyter.widget-view+json": {
       "model_id": "6ffc147d80cd49ebb909352db7fe886e",
       "version_major": 2,
       "version_minor": 0
      },
      "text/plain": [
       "VBox()"
      ]
     },
     "metadata": {},
     "output_type": "display_data"
    },
    {
     "data": {
      "application/vnd.jupyter.widget-view+json": {
       "model_id": "",
       "version_major": 2,
       "version_minor": 0
      },
      "text/plain": [
       "FloatProgress(value=0.0, bar_style='info', description='Progress:', layout=Layout(height='25px', width='50%'),…"
      ]
     },
     "metadata": {},
     "output_type": "display_data"
    },
    {
     "name": "stdout",
     "output_type": "stream",
     "text": [
      "import org.apache.spark.sql.SaveMode\n",
      "defined object EcommerceEventParser\n"
     ]
    }
   ],
   "source": [
    "import org.apache.spark.sql.SaveMode\n",
    "\n",
    "object EcommerceEventParser {\n",
    "\n",
    "  case class Event(time: String,\n",
    "                   mode: String,\n",
    "                   productId: Long,\n",
    "                   categoryId: Long,\n",
    "                   categoryCode: String,\n",
    "                   brand: String,\n",
    "                   price: Double,\n",
    "                   userId: Long,\n",
    "                   userSession: String)\n",
    "\n",
    "  def parse(line: String): Option[Event] = {\n",
    "    try {\n",
    "      val input = line.split(',')\n",
    "      Some(\n",
    "        Event(\n",
    "          time = input(0),\n",
    "          mode = input(1),\n",
    "          productId = input(2).toLong,\n",
    "          categoryId = input(3).toLong,\n",
    "          categoryCode = input(4),\n",
    "          brand = input(5),\n",
    "          price = input(6).toDouble,\n",
    "          userId = input(7).toLong,\n",
    "          userSession = input(8)\n",
    "        )\n",
    "      )\n",
    "    } catch {\n",
    "      case _: Throwable => None\n",
    "    }\n",
    "  }\n",
    "}"
   ]
  },
  {
   "cell_type": "markdown",
   "id": "1c6f37d1",
   "metadata": {},
   "source": [
    "### Definizione del numero ottimale di partizioni"
   ]
  },
  {
   "cell_type": "code",
   "execution_count": 3,
   "id": "d5be518f",
   "metadata": {
    "execution": {
     "iopub.execute_input": "2023-06-11T17:02:32.939427Z",
     "iopub.status.busy": "2023-06-11T17:02:32.939099Z",
     "iopub.status.idle": "2023-06-11T17:02:36.234559Z",
     "shell.execute_reply": "2023-06-11T17:02:36.233843Z",
     "shell.execute_reply.started": "2023-06-11T17:02:32.939400Z"
    },
    "tags": []
   },
   "outputs": [
    {
     "data": {
      "application/vnd.jupyter.widget-view+json": {
       "model_id": "f0c0eae3a0a74f6d8eb95c8aa85de996",
       "version_major": 2,
       "version_minor": 0
      },
      "text/plain": [
       "VBox()"
      ]
     },
     "metadata": {},
     "output_type": "display_data"
    },
    {
     "data": {
      "application/vnd.jupyter.widget-view+json": {
       "model_id": "",
       "version_major": 2,
       "version_minor": 0
      },
      "text/plain": [
       "FloatProgress(value=0.0, bar_style='info', description='Progress:', layout=Layout(height='25px', width='50%'),…"
      ]
     },
     "metadata": {},
     "output_type": "display_data"
    },
    {
     "name": "stdout",
     "output_type": "stream",
     "text": [
      "rddEvents: org.apache.spark.rdd.RDD[EcommerceEventParser.Event] = MapPartitionsRDD[2] at flatMap at <console>:26\n",
      "numPartitions: Int = 269\n",
      "Numero di partizioni: 269\n"
     ]
    }
   ],
   "source": [
    "val rddEvents = sc.textFile(path_events_ecommerce).flatMap(EcommerceEventParser.parse)\n",
    "val numPartitions = rddEvents.getNumPartitions\n",
    "println(\"Numero di partizioni: \"+numPartitions)"
   ]
  },
  {
   "cell_type": "markdown",
   "id": "5784e240",
   "metadata": {},
   "source": [
    "Le partizioni che sono state create da S3 sono **269**. Questo perchè il dataset ha una dimensione di 8.38GB e ogni partizione di S3 contiene 32MB di dati, quindi, 8602/32 = **269 partizioni**. \n",
    "\n",
    "Le partizioni hanno due scopi principali:\n",
    "\n",
    "- parallelizzare la computazione tra gli executor\n",
    "- minimizzare il traffico di rete\n",
    "\n",
    "Se non specificato diversamente, Spark setta il numero di partizioni autonomamente. Tarare in modo errato il numero delle partizioni può portare a dei grossi problemi di performance: \n",
    "\n",
    "- se si definiscono *poche partizioni* allora non verrà sfruttata la concorrenza in maniera adeguata\n",
    "- se si definiscono *troppe partizioni* si avrà un overhead nello scheduling di molti task di piccole dimensioni\n",
    "\n",
    "In generale, le buone pratiche dicono che sarebbe opportuno avere almeno due/tre partizioni per core (```lower bound```) e una durata di esecuzione per task di almeno 100-200 mS (```upper bound```).\n",
    "\n",
    "Come si è potuto constatare, vengono create 269 partizioni, quindi 269 task. Nella nostra cluster configuation abbiamo 2 executor ognuno con 3 core. Questo significa che abbiamo 6 core su cui eseguire in parallelo i tasks. Possiamo quindi pensare di avere 269/6=45 partizioni per core (45 task per core). \n",
    "\n",
    "Si è scelto di ridefinire il numero di partizioni in modo tale che ogni core potesse analizzare 10 partizioni. A tale scopo, si è utilizzata la funzione ```coalesce```, specificando un numero diverso di partizioni, precisamente ```60```.\n",
    "\n",
    "È importante sottolineare che la funzione coalesce non implementa un criterio di partizionamento, pertanto non ridistribuisce attivamente i dati tra le partizioni. Essa effettua semplicemente un'accorpamento delle partizioni nel caso in cui ne venga specificato un numero inferiore rispetto a quello predefinito.\n",
    "\n",
    "Nonostante si sia proceduto a ridurre in modo significativo il numero delle partizioni, non si è riscontrato un miglioramento sostanziale delle prestazioni ottenute dall'esecuzione di un semplice job, come si evince dai risultati sottostanti."
   ]
  },
  {
   "cell_type": "code",
   "execution_count": 5,
   "id": "17a5f183",
   "metadata": {
    "execution": {
     "iopub.execute_input": "2023-06-09T08:01:46.533341Z",
     "iopub.status.busy": "2023-06-09T08:01:46.533012Z",
     "iopub.status.idle": "2023-06-09T08:01:47.814896Z",
     "shell.execute_reply": "2023-06-09T08:01:47.813997Z",
     "shell.execute_reply.started": "2023-06-09T08:01:46.533307Z"
    },
    "tags": []
   },
   "outputs": [
    {
     "data": {
      "application/vnd.jupyter.widget-view+json": {
       "model_id": "533ceee412e346eb924ef65d00c0b952",
       "version_major": 2,
       "version_minor": 0
      },
      "text/plain": [
       "VBox()"
      ]
     },
     "metadata": {},
     "output_type": "display_data"
    },
    {
     "data": {
      "application/vnd.jupyter.widget-view+json": {
       "model_id": "",
       "version_major": 2,
       "version_minor": 0
      },
      "text/plain": [
       "FloatProgress(value=0.0, bar_style='info', description='Progress:', layout=Layout(height='25px', width='50%'),…"
      ]
     },
     "metadata": {},
     "output_type": "display_data"
    },
    {
     "name": "stdout",
     "output_type": "stream",
     "text": [
      "rddEventsRepartitioned: org.apache.spark.rdd.RDD[EcommerceEventParser.Event] = CoalescedRDD[3] at coalesce at <console>:24\n",
      "res5: Int = 60\n"
     ]
    }
   ],
   "source": [
    "val rddEventsRepartitioned = rddEvents.coalesce(60)\n",
    "rddEventsRepartitioned.getNumPartitions"
   ]
  },
  {
   "cell_type": "markdown",
   "id": "1b2a9542",
   "metadata": {
    "execution": {
     "iopub.execute_input": "2023-06-08T17:38:07.989434Z",
     "iopub.status.busy": "2023-06-08T17:38:07.989118Z"
    },
    "tags": []
   },
   "source": [
    "\n",
    "![partitions.PNG](images/partitions.PNG)"
   ]
  },
  {
   "cell_type": "markdown",
   "id": "a3f58a9f",
   "metadata": {
    "execution": {
     "iopub.execute_input": "2023-06-08T18:03:10.072023Z",
     "iopub.status.busy": "2023-06-08T18:03:10.071702Z",
     "iopub.status.idle": "2023-06-08T18:03:10.833894Z",
     "shell.execute_reply": "2023-06-08T18:03:10.832840Z",
     "shell.execute_reply.started": "2023-06-08T18:03:10.071991Z"
    }
   },
   "source": [
    "### Memory Occupation"
   ]
  },
  {
   "cell_type": "markdown",
   "id": "ecaef850",
   "metadata": {},
   "source": [
    "Come noto, un RDD di default viene ricalcolato ogni volta che **un'azione** richiede il suo utilizzo. Tuttavia, in determinati casi, può essere vantaggioso persistere un RDD se si prevede che verrà riutilizzato più volte. Per rendere un RDD persistente, è possibile utilizzare due azioni principali:\n",
    "\n",
    "- ```persist```\n",
    "- ```cache```\n",
    "\n",
    "La differenza tra le due azioni consiste nel fatto che ```persist``` consente di specificare il livello di persistenza dei dati, mentre ```cache``` salva i dati direttamente nella memoria centrale, utilizzando il livello di persistenza predefinito ```(MEMORY_ONLY)```. L'azione persist consente di specificare diversi livelli di persistenza, tra cui:\n",
    "\n",
    "- *MEMORY_ONLY*: memorizza i dati nell'heap di memoria del nodo.\n",
    "- *MEMORY_AND_DISK*: memorizza i dati nell'heap di memoria del nodo e, se necessario, li salva anche su disco.\n",
    "- *MEMORY_ONLY_SER*: memorizza i dati nell'heap di memoria del nodo, ma li serializza per ridurre lo spazio occupato.\n",
    "- *MEMORY_AND_DISK_SER*: memorizza i dati nell'heap di memoria del nodo e, se necessario, li salva anche su disco, utilizzando la serializzazione per ridurre lo spazio occupato.\n",
    "- *DISK_ONLY*: salva i dati direttamente su disco, senza memorizzarli in memoria.\n",
    "\n",
    "Durante questa fase esplorativa del dataset, si è deciso di approfondire la tematica relativa all'occupazione di memoria. Come evidenziato durante le lezioni, è stata testata la funzionalità di *caching* per determinare la quantità di spazio occupato dal dataset in memoria RAM. Inizialmente, è stata eseguita una semplice operazione di *conteggio* sull'RDD in cache. Nonostante non si siano trattati a fondo dataset di questa portata, è stata riscontrata la necessità di effettuare un'analisi più dettagliata a livello di caching. Si ricorda che il dataset originale ha una dimensione di 8.38GB. "
   ]
  },
  {
   "cell_type": "code",
   "execution_count": 6,
   "id": "06a35a1c",
   "metadata": {
    "execution": {
     "iopub.execute_input": "2023-06-09T08:04:19.606788Z",
     "iopub.status.busy": "2023-06-09T08:04:19.606465Z",
     "iopub.status.idle": "2023-06-09T08:05:51.286796Z",
     "shell.execute_reply": "2023-06-09T08:05:51.285992Z",
     "shell.execute_reply.started": "2023-06-09T08:04:19.606764Z"
    },
    "tags": []
   },
   "outputs": [
    {
     "data": {
      "application/vnd.jupyter.widget-view+json": {
       "model_id": "433ba15d90a3401798b4a32685fceba9",
       "version_major": 2,
       "version_minor": 0
      },
      "text/plain": [
       "VBox()"
      ]
     },
     "metadata": {},
     "output_type": "display_data"
    },
    {
     "data": {
      "application/vnd.jupyter.widget-view+json": {
       "model_id": "",
       "version_major": 2,
       "version_minor": 0
      },
      "text/plain": [
       "FloatProgress(value=0.0, bar_style='info', description='Progress:', layout=Layout(height='25px', width='50%'),…"
      ]
     },
     "metadata": {},
     "output_type": "display_data"
    },
    {
     "name": "stdout",
     "output_type": "stream",
     "text": [
      "rddEventsRepartitionedCached: org.apache.spark.rdd.RDD[EcommerceEventParser.Event] = CoalescedRDD[4] at coalesce at <console>:25\n",
      "res12: Long = 67501969\n"
     ]
    }
   ],
   "source": [
    "val rddEventsRepartitionedCached = rddEventsRepartitioned.cache\n",
    "rddEventsRepartitionedCached.count"
   ]
  },
  {
   "cell_type": "markdown",
   "id": "8e9bcf66",
   "metadata": {},
   "source": [
    "Accedendo alla sezione ```Storage``` della *Spark UI* tramite tunnel SSH (*porta 20888*), è stata osservata un'occupazione in memoria dell'RDD pari a 7.7 GB. Tuttavia, non si potuto fare a meno di notare anche le indicazioni **Cached Partitions** e **Fraction_Cached**, corrispondenti a 17 e a 28%. \n",
    "![size_cached.PNG](images/size_cached.PNG)\n",
    "\n",
    "Ciò ha spinto a un'ulteriore esplorazione di questi aspetti. Esaminando le singole unità di memorizzazione, è stato notato che, delle 60 partizioni che compongono l'RDD, soltanto 17 erano state correttamente salvate in memoria. Ciò ha portato a pensare che l'RDD generato avesse una dimensione molto maggiore rispetto al dataset originale. A tal proposito, si è analizzata nuovamente la configurazione del cluster precedentemente definta: a ciascun executor erano stati assegnati 8 GB di memoria RAM per gestire correttamente i dati. Avendo a disposizione due executor, la RAM totale usufruibile sarebbe dovuta essere di 16 GB. Nonostante i vari test sull'occupazione di memoria, non sono mai stati superati gli 8 GB di storage utilizzato. Ciò ha sollevato un ulteriore interrogativo, che ha trovato risposta dopo svariate ricerche sul web: la memoria disponibile per lo storage dei dati all'interno degli executor corrisponde approssimativamente alla metà di quella definita nella configurazione del cluster. Ciò avviene perché essa viene divisa in due sottosezioni, la ```Storage Memory``` e l'```Execution Memory```. \n",
    "\n",
    "Per ulteriori delucidazioni in merito:\n",
    "\n",
    "- [Memory Management in Spark 3](https://www.educative.io/answers/memory-management-in-spark-3)\n",
    "- [Apache Spark Memory Management](https://medium.com/analytics-vidhya/apache-spark-memory-management-49682ded3d42)\n",
    "\n",
    "\n",
    "![info_caching.PNG](images/info_caching.PNG)"
   ]
  },
  {
   "cell_type": "markdown",
   "id": "c7b733d0",
   "metadata": {
    "tags": []
   },
   "source": [
    "## New Cluster\n",
    "\n",
    "Date le considerazioni precedenti e considerando la fase iniziale di esplorazione del cluster, si è deciso di adottare una configurazione alternativa al fine di testare un po' più a fondo le potenzialità offerte da AWS, in particolare in termini di scalabilità, e per agevolare le operazioni successive sull'RDD, soprattutto per quanto riguarda la persistenza nella memoria RAM.\n",
    "\n",
    "In particolare, si è deciso di creare una nuovo cluster così composto: \n",
    "- 1 [m5.xlarge](https://aws.amazon.com/it/ec2/instance-types/m5/) 4 vCore, 16GB RAM\n",
    "- 2 [m5.4xlarge](https://aws.amazon.com/it/ec2/instance-types/m5/) 16 vCore, 64GB di memoria RAM.\n",
    "\n",
    "La versione di EMR utilizzata è sempre la stessa, ovvero la *6.10.0*. Le istanza virtuali del cluster sono state configurate con i pacchetti precedentemente citati.\n",
    "\n",
    "### New Cluster Configuration\n",
    "\n",
    "In conformità alle linee guida precedentemente menzionate riguardanti il *tuning dei core* e della *memoria RAM*, si è presa la decisione di definire la nuova configurazione del cluster nel modo seguente:\n",
    "\n",
    "- (core disponibili per nodo - un core per gli altri servizi)/ numero di core per executor => (16-1)/3 = **5 executor per nodo**\n",
    "- {(RAM disponibile per nodo * risorse disponibili) * (off-heap)}/numero di executor per nodo => {(64 * 0.75) * (1-0.1)}/5 = **8.6GB di RAM per executor**\n",
    "\n",
    "A fronte di ciò, la configurazione utilizzata è la seguente:\n",
    "\n",
    "- 10 executor (5 per nodo) con 3 core ciascuno \n",
    "- 8GB di memoria per executor (per rientrare nei limiti predefiniti imposti da EMR)"
   ]
  },
  {
   "cell_type": "code",
   "execution_count": 2,
   "id": "e724f6ef",
   "metadata": {
    "execution": {
     "iopub.execute_input": "2023-06-12T09:08:27.078573Z",
     "iopub.status.busy": "2023-06-12T09:08:27.078253Z",
     "iopub.status.idle": "2023-06-12T09:09:10.828254Z",
     "shell.execute_reply": "2023-06-12T09:09:10.827282Z",
     "shell.execute_reply.started": "2023-06-12T09:08:27.078546Z"
    },
    "tags": []
   },
   "outputs": [
    {
     "name": "stdout",
     "output_type": "stream",
     "text": [
      "Starting Spark application\n"
     ]
    },
    {
     "data": {
      "text/html": [
       "<table>\n",
       "<tr><th>ID</th><th>YARN Application ID</th><th>Kind</th><th>State</th><th>Spark UI</th><th>Driver log</th><th>User</th><th>Current session?</th></tr><tr><td>1</td><td>application_1686559935583_0002</td><td>spark</td><td>idle</td><td><a target=\"_blank\" href=\"http://ip-172-31-25-242.ec2.internal:20888/proxy/application_1686559935583_0002/\" class=\"emr-proxy-link\" emr-resource=\"j-3AJ973S501S2R\n",
       "\" application-id=\"application_1686559935583_0002\">Link</a></td><td><a target=\"_blank\" href=\"http://ip-172-31-25-147.ec2.internal:8042/node/containerlogs/container_1686559935583_0002_01_000001/livy\" >Link</a></td><td>None</td><td>✔</td></tr></table>"
      ],
      "text/plain": [
       "<IPython.core.display.HTML object>"
      ]
     },
     "metadata": {},
     "output_type": "display_data"
    },
    {
     "data": {
      "application/vnd.jupyter.widget-view+json": {
       "model_id": "",
       "version_major": 2,
       "version_minor": 0
      },
      "text/plain": [
       "FloatProgress(value=0.0, bar_style='info', description='Progress:', layout=Layout(height='25px', width='50%'),…"
      ]
     },
     "metadata": {},
     "output_type": "display_data"
    },
    {
     "name": "stdout",
     "output_type": "stream",
     "text": [
      "SparkSession available as 'spark'.\n"
     ]
    },
    {
     "data": {
      "text/html": [
       "Current session configs: <tt>{'executorMemory': '8G', 'numExecutors': 10, 'executorCores': 3, 'conf': {'spark.dynamicAllocation.enabled': 'false'}, 'proxyUser': 'assumed-role_voclabs_user2606793_michele_mongardi_gmail_com', 'kind': 'spark'}</tt><br>"
      ],
      "text/plain": [
       "<IPython.core.display.HTML object>"
      ]
     },
     "metadata": {},
     "output_type": "display_data"
    },
    {
     "data": {
      "text/html": [
       "<table>\n",
       "<tr><th>ID</th><th>YARN Application ID</th><th>Kind</th><th>State</th><th>Spark UI</th><th>Driver log</th><th>User</th><th>Current session?</th></tr><tr><td>1</td><td>application_1686559935583_0002</td><td>spark</td><td>idle</td><td><a target=\"_blank\" href=\"http://ip-172-31-25-242.ec2.internal:20888/proxy/application_1686559935583_0002/\" class=\"emr-proxy-link\" emr-resource=\"j-3AJ973S501S2R\n",
       "\" application-id=\"application_1686559935583_0002\">Link</a></td><td><a target=\"_blank\" href=\"http://ip-172-31-25-147.ec2.internal:8042/node/containerlogs/container_1686559935583_0002_01_000001/livy\" >Link</a></td><td>None</td><td>✔</td></tr></table>"
      ],
      "text/plain": [
       "<IPython.core.display.HTML object>"
      ]
     },
     "metadata": {},
     "output_type": "display_data"
    }
   ],
   "source": [
    "%%configure -f\n",
    "{\"executorMemory\":\"8G\", \"numExecutors\":10, \"executorCores\":3, \"conf\": {\"spark.dynamicAllocation.enabled\": \"false\"}}"
   ]
  },
  {
   "cell_type": "code",
   "execution_count": 3,
   "id": "c4895c78",
   "metadata": {
    "execution": {
     "iopub.execute_input": "2023-06-12T09:09:13.077092Z",
     "iopub.status.busy": "2023-06-12T09:09:13.076795Z",
     "iopub.status.idle": "2023-06-12T09:09:13.849241Z",
     "shell.execute_reply": "2023-06-12T09:09:13.848343Z",
     "shell.execute_reply.started": "2023-06-12T09:09:13.077067Z"
    },
    "tags": []
   },
   "outputs": [
    {
     "data": {
      "application/vnd.jupyter.widget-view+json": {
       "model_id": "4f7817d4411544af8da5e456dfcb5f86",
       "version_major": 2,
       "version_minor": 0
      },
      "text/plain": [
       "VBox()"
      ]
     },
     "metadata": {},
     "output_type": "display_data"
    },
    {
     "data": {
      "application/vnd.jupyter.widget-view+json": {
       "model_id": "",
       "version_major": 2,
       "version_minor": 0
      },
      "text/plain": [
       "FloatProgress(value=0.0, bar_style='info', description='Progress:', layout=Layout(height='25px', width='50%'),…"
      ]
     },
     "metadata": {},
     "output_type": "display_data"
    },
    {
     "name": "stdout",
     "output_type": "stream",
     "text": [
      "bucketname: String = unibo-bd2223-mmongardiproject\n",
      "path_events_ecommerce: String = s3a://unibo-bd2223-mmongardiproject/datasets/project/2019-Nov.csv\n",
      "res2: String = SPARK UI: Enable forwarding of port 20888 and connect to http://localhost:20888/proxy/application_1686559935583_0002/\n"
     ]
    }
   ],
   "source": [
    "val bucketname = \"unibo-bd2223-mmongardiproject\"\n",
    "val path_events_ecommerce = \"s3a://\"+bucketname+\"/datasets/project/2019-Nov.csv\"\n",
    "\n",
    "\"SPARK UI: Enable forwarding of port 20888 and connect to http://localhost:20888/proxy/\" + sc.applicationId + \"/\""
   ]
  },
  {
   "cell_type": "markdown",
   "id": "e4f73e64",
   "metadata": {},
   "source": [
    "Sono inoltre state prese nuovamente in consideraizone le buone pratiche per stabilire un numero di partizioni ottimale da allocare ad ogni core. Come si è potuto constatare, vengono create 269 partizioni, quindi 269 task. Nella nuova cluster-configuation si dispone di 10 executor, ognuno con 3 core. Questo significa che si può usufuire di 30 core su cui eseguire in parallelo i tasks. Nella configurazione di defult, è possibile pensare che ogni CPU gestisca 9 partizioni => *(269/30=9)*. \n",
    "\n",
    "Si è scelto di ridefinire il numero di partizioni in modo tale che ogni core potesse analizzare 2 partizioni. A tale scopo, si è utilizzata nuovamente la funzione ```coalesce```, specificando come numero di partizioni ```60``` => *(60/30=2)*. Questa attività preliminare, con questa specifica configurazione del cluster, può risultare superflua visti i risultati ottenuti di seguito, ma per essere conforme alle buone pratiche di progettazione si è deciso di attuarla ugualemente.\n",
    "\n",
    "#### *N.B*: prima di eseguire il codice seguente, ricordare di lanciare il codice relativo al *parser* dichiarato ad inizio file."
   ]
  },
  {
   "cell_type": "code",
   "execution_count": 5,
   "id": "7a673d0a",
   "metadata": {
    "execution": {
     "iopub.execute_input": "2023-06-09T14:32:47.085455Z",
     "iopub.status.busy": "2023-06-09T14:32:47.085151Z",
     "iopub.status.idle": "2023-06-09T14:32:50.382894Z",
     "shell.execute_reply": "2023-06-09T14:32:50.382079Z",
     "shell.execute_reply.started": "2023-06-09T14:32:47.085429Z"
    },
    "tags": []
   },
   "outputs": [
    {
     "data": {
      "application/vnd.jupyter.widget-view+json": {
       "model_id": "3b0eff99d3a14771b75e31e66a5cbfc8",
       "version_major": 2,
       "version_minor": 0
      },
      "text/plain": [
       "VBox()"
      ]
     },
     "metadata": {},
     "output_type": "display_data"
    },
    {
     "data": {
      "application/vnd.jupyter.widget-view+json": {
       "model_id": "",
       "version_major": 2,
       "version_minor": 0
      },
      "text/plain": [
       "FloatProgress(value=0.0, bar_style='info', description='Progress:', layout=Layout(height='25px', width='50%'),…"
      ]
     },
     "metadata": {},
     "output_type": "display_data"
    },
    {
     "name": "stdout",
     "output_type": "stream",
     "text": [
      "rddEvents: org.apache.spark.rdd.RDD[EcommerceEventParser.Event] = MapPartitionsRDD[2] at flatMap at <console>:26\n",
      "numPartitions: Int = 269\n",
      "Numero di partizioni: 269\n"
     ]
    }
   ],
   "source": [
    "val rddEvents = sc.textFile(path_events_ecommerce).flatMap(EcommerceEventParser.parse)\n",
    "val numPartitions = rddEvents.getNumPartitions\n",
    "println(\"Numero di partizioni: \"+numPartitions)"
   ]
  },
  {
   "cell_type": "markdown",
   "id": "7350d27a",
   "metadata": {},
   "source": [
    "## Testing the new Cluster"
   ]
  },
  {
   "cell_type": "markdown",
   "id": "93387418",
   "metadata": {},
   "source": [
    "### Testing not-partitioned"
   ]
  },
  {
   "cell_type": "code",
   "execution_count": 7,
   "id": "76ba4890",
   "metadata": {
    "execution": {
     "iopub.execute_input": "2023-06-09T11:31:10.182618Z",
     "iopub.status.busy": "2023-06-09T11:31:10.182302Z",
     "iopub.status.idle": "2023-06-09T11:31:25.532187Z",
     "shell.execute_reply": "2023-06-09T11:31:25.531366Z",
     "shell.execute_reply.started": "2023-06-09T11:31:10.182592Z"
    }
   },
   "outputs": [
    {
     "data": {
      "application/vnd.jupyter.widget-view+json": {
       "model_id": "5ef7eb86f21f403ca1c3bf24b939949f",
       "version_major": 2,
       "version_minor": 0
      },
      "text/plain": [
       "VBox()"
      ]
     },
     "metadata": {},
     "output_type": "display_data"
    },
    {
     "data": {
      "application/vnd.jupyter.widget-view+json": {
       "model_id": "",
       "version_major": 2,
       "version_minor": 0
      },
      "text/plain": [
       "FloatProgress(value=0.0, bar_style='info', description='Progress:', layout=Layout(height='25px', width='50%'),…"
      ]
     },
     "metadata": {},
     "output_type": "display_data"
    },
    {
     "name": "stdout",
     "output_type": "stream",
     "text": [
      "res5: Long = 67501969\n"
     ]
    }
   ],
   "source": [
    "rddEvents.count"
   ]
  },
  {
   "cell_type": "markdown",
   "id": "1adada5e",
   "metadata": {},
   "source": [
    "\n",
    "![not_partitioned_count.PNG](images/not_partitioned_count.PNG)"
   ]
  },
  {
   "cell_type": "markdown",
   "id": "868a1c2b",
   "metadata": {
    "tags": []
   },
   "source": [
    "### Testing partitioned"
   ]
  },
  {
   "cell_type": "code",
   "execution_count": 6,
   "id": "8457fe4f",
   "metadata": {
    "execution": {
     "iopub.execute_input": "2023-06-09T14:20:02.530498Z",
     "iopub.status.busy": "2023-06-09T14:20:02.530187Z",
     "iopub.status.idle": "2023-06-09T14:20:13.832679Z",
     "shell.execute_reply": "2023-06-09T14:20:13.831785Z",
     "shell.execute_reply.started": "2023-06-09T14:20:02.530473Z"
    },
    "tags": []
   },
   "outputs": [
    {
     "data": {
      "application/vnd.jupyter.widget-view+json": {
       "model_id": "4375f081eac34804bebdd767d140b862",
       "version_major": 2,
       "version_minor": 0
      },
      "text/plain": [
       "VBox()"
      ]
     },
     "metadata": {},
     "output_type": "display_data"
    },
    {
     "data": {
      "application/vnd.jupyter.widget-view+json": {
       "model_id": "",
       "version_major": 2,
       "version_minor": 0
      },
      "text/plain": [
       "FloatProgress(value=0.0, bar_style='info', description='Progress:', layout=Layout(height='25px', width='50%'),…"
      ]
     },
     "metadata": {},
     "output_type": "display_data"
    },
    {
     "name": "stdout",
     "output_type": "stream",
     "text": [
      "rddEventsPartitioned: org.apache.spark.rdd.RDD[EcommerceEventParser.Event] = CoalescedRDD[6] at coalesce at <console>:24\n",
      "res9: Long = 67501969\n"
     ]
    }
   ],
   "source": [
    "val rddEventsPartitioned = rddEvents.coalesce(60)\n",
    "rddEventsPartitioned.count"
   ]
  },
  {
   "cell_type": "markdown",
   "id": "359ada5f",
   "metadata": {},
   "source": [
    "![partitioned_count.PNG](images/partitioned_count.PNG)\n"
   ]
  },
  {
   "cell_type": "markdown",
   "id": "b8c15c64",
   "metadata": {},
   "source": [
    "### Testing not-partitioned cached "
   ]
  },
  {
   "cell_type": "code",
   "execution_count": 19,
   "id": "1dd7827c",
   "metadata": {
    "execution": {
     "iopub.execute_input": "2023-06-09T13:23:33.465851Z",
     "iopub.status.busy": "2023-06-09T13:23:33.465428Z",
     "iopub.status.idle": "2023-06-09T13:24:10.852136Z",
     "shell.execute_reply": "2023-06-09T13:24:10.851278Z",
     "shell.execute_reply.started": "2023-06-09T13:23:33.465821Z"
    },
    "tags": []
   },
   "outputs": [
    {
     "data": {
      "application/vnd.jupyter.widget-view+json": {
       "model_id": "3b457b587f7a43f2893401f2e53bdd7f",
       "version_major": 2,
       "version_minor": 0
      },
      "text/plain": [
       "VBox()"
      ]
     },
     "metadata": {},
     "output_type": "display_data"
    },
    {
     "data": {
      "application/vnd.jupyter.widget-view+json": {
       "model_id": "",
       "version_major": 2,
       "version_minor": 0
      },
      "text/plain": [
       "FloatProgress(value=0.0, bar_style='info', description='Progress:', layout=Layout(height='25px', width='50%'),…"
      ]
     },
     "metadata": {},
     "output_type": "display_data"
    },
    {
     "name": "stdout",
     "output_type": "stream",
     "text": [
      "rddEventsCached: rddEvents.type = MapPartitionsRDD[5] at flatMap at <console>:26\n",
      "res24: Long = 67501969\n",
      "res25: Long = 67501969\n"
     ]
    }
   ],
   "source": [
    "val rddEventsCached = rddEvents.cache\n",
    "rddEventsCached.count"
   ]
  },
  {
   "cell_type": "markdown",
   "id": "d1c91daf",
   "metadata": {},
   "source": [
    "\n",
    "![job_count_not_partitioned_count_cache.PNG](images/job_count_not_partitioned_count_cache.PNG)\n",
    "![not_partitioned_count_cached.PNG](images/not_partitioned_count_cached.PNG)\n",
    "![notPartitioned_cached_count.PNG](images/notPartitioned_cached_count.PNG)"
   ]
  },
  {
   "cell_type": "code",
   "execution_count": 12,
   "id": "db206d2c",
   "metadata": {
    "execution": {
     "iopub.execute_input": "2023-06-09T12:06:13.208714Z",
     "iopub.status.busy": "2023-06-09T12:06:13.208378Z",
     "iopub.status.idle": "2023-06-09T12:06:13.462886Z",
     "shell.execute_reply": "2023-06-09T12:06:13.462177Z",
     "shell.execute_reply.started": "2023-06-09T12:06:13.208678Z"
    },
    "tags": []
   },
   "outputs": [
    {
     "data": {
      "application/vnd.jupyter.widget-view+json": {
       "model_id": "32c95c67c3164dcfae796847c2b2084f",
       "version_major": 2,
       "version_minor": 0
      },
      "text/plain": [
       "VBox()"
      ]
     },
     "metadata": {},
     "output_type": "display_data"
    },
    {
     "data": {
      "application/vnd.jupyter.widget-view+json": {
       "model_id": "",
       "version_major": 2,
       "version_minor": 0
      },
      "text/plain": [
       "FloatProgress(value=0.0, bar_style='info', description='Progress:', layout=Layout(height='25px', width='50%'),…"
      ]
     },
     "metadata": {},
     "output_type": "display_data"
    }
   ],
   "source": [
    "sc.getPersistentRDDs.foreach{case (k,v) => v.unpersist()}"
   ]
  },
  {
   "cell_type": "markdown",
   "id": "5391fa73",
   "metadata": {},
   "source": [
    "### Testing partitioned cached"
   ]
  },
  {
   "cell_type": "code",
   "execution_count": null,
   "id": "33318aff",
   "metadata": {
    "execution": {
     "iopub.execute_input": "2023-06-09T13:29:15.173804Z",
     "iopub.status.busy": "2023-06-09T13:29:15.173492Z"
    },
    "tags": []
   },
   "outputs": [
    {
     "data": {
      "application/vnd.jupyter.widget-view+json": {
       "model_id": "6bba8c0c929b462eaf1178c01c881e10",
       "version_major": 2,
       "version_minor": 0
      },
      "text/plain": [
       "VBox()"
      ]
     },
     "metadata": {},
     "output_type": "display_data"
    },
    {
     "data": {
      "application/vnd.jupyter.widget-view+json": {
       "model_id": "",
       "version_major": 2,
       "version_minor": 0
      },
      "text/plain": [
       "FloatProgress(value=0.0, bar_style='info', description='Progress:', layout=Layout(height='25px', width='50%'),…"
      ]
     },
     "metadata": {},
     "output_type": "display_data"
    },
    {
     "name": "stdout",
     "output_type": "stream",
     "text": [
      "rddEventsPartitionedCached: rddEventsPartitioned.type = CoalescedRDD[16] at coalesce at <console>:24\n",
      "res28: Long = 67501969\n"
     ]
    }
   ],
   "source": [
    "val rddEventsPartitionedCached = rddEventsPartitioned.cache\n",
    "rddEventsPartitionedCached.count"
   ]
  },
  {
   "cell_type": "markdown",
   "id": "9c8091eb",
   "metadata": {},
   "source": [
    "\n",
    "![job_count_partitioned_count_cache.PNG](images/job_count_partitioned_count_cache.PNG)\n",
    "![partitioned_count_cached.PNG](images/partitioned_count_cached.PNG)\n",
    "![partitioned_cached_count.PNG](images/partitioned_cached_count.PNG)"
   ]
  },
  {
   "cell_type": "code",
   "execution_count": 29,
   "id": "e91cfb87",
   "metadata": {
    "execution": {
     "iopub.execute_input": "2023-06-09T13:47:06.439940Z",
     "iopub.status.busy": "2023-06-09T13:47:06.439628Z",
     "iopub.status.idle": "2023-06-09T13:47:06.685691Z",
     "shell.execute_reply": "2023-06-09T13:47:06.684825Z",
     "shell.execute_reply.started": "2023-06-09T13:47:06.439913Z"
    },
    "tags": []
   },
   "outputs": [
    {
     "data": {
      "application/vnd.jupyter.widget-view+json": {
       "model_id": "c0d60d8c62b340efa14c4e6479d274e3",
       "version_major": 2,
       "version_minor": 0
      },
      "text/plain": [
       "VBox()"
      ]
     },
     "metadata": {},
     "output_type": "display_data"
    },
    {
     "data": {
      "application/vnd.jupyter.widget-view+json": {
       "model_id": "",
       "version_major": 2,
       "version_minor": 0
      },
      "text/plain": [
       "FloatProgress(value=0.0, bar_style='info', description='Progress:', layout=Layout(height='25px', width='50%'),…"
      ]
     },
     "metadata": {},
     "output_type": "display_data"
    }
   ],
   "source": [
    "sc.getPersistentRDDs.foreach{case (k,v) => v.unpersist()}"
   ]
  },
  {
   "cell_type": "markdown",
   "id": "00ebb150",
   "metadata": {},
   "source": [
    "Come accennato in precedenza, l'operazione di aggregazione delle partizioni utilizzando il metodo ```coalesce``` non comporta un notevole miglioramento delle prestazioni, come originariamente previsto. Tuttavia, un'analisi più dettagliata dei tempi di esecuzione dei singoli task nelle due configurazioni di partizioni rivela che quella con *60* partizioni riporta tempi di esecuzione più in linea con i limiti indicati dalle linee guida. Questo sarà ancora più evidente durante la fase di **analisi** dei record."
   ]
  },
  {
   "cell_type": "markdown",
   "id": "d7fec34d",
   "metadata": {},
   "source": [
    "\n",
    "![single_task_duration_notpartitioned_notcached.PNG](images/single_task_duration_notpartitioned_notcached.PNG)\n",
    "![single_task_duration_partitioned_notcached.PNG](images/single_task_duration_partitioned_notcached.PNG)"
   ]
  },
  {
   "cell_type": "markdown",
   "id": "dba2661e",
   "metadata": {},
   "source": [
    "# Prestazioni del cluster: confronto tra modalità su RDD di eventi specifici\n",
    "\n",
    "Dopo aver condotto dei semplici test sull'intero insieme di record presenti nell'RDD di origine, si è proceduto ad effettuare ulteriori test di piccola entità su una porzione selezionata di questo RDD. In particolare, si sono voluto valutare le prestazioni del cluster in modalità \"*partizionata*\" tramite ```coalesce```, e \"*non partizionato*\", utilizzando anche il caching per entrambe le modalità. Per condurre tali valutazioni, è stato deciso di creare tre nuovi RDD, ciascuno contenente esclusivamente gli eventi di tipo ```view```, ```cart``` e ```purchase```, rispettivamente."
   ]
  },
  {
   "cell_type": "markdown",
   "id": "71c6123d",
   "metadata": {},
   "source": [
    "## Test not-partitioned: *view*, *cart*, *purchase*"
   ]
  },
  {
   "cell_type": "code",
   "execution_count": 5,
   "id": "b3952575",
   "metadata": {
    "execution": {
     "iopub.execute_input": "2023-06-09T14:16:43.610736Z",
     "iopub.status.busy": "2023-06-09T14:16:43.610436Z",
     "iopub.status.idle": "2023-06-09T14:17:18.992756Z",
     "shell.execute_reply": "2023-06-09T14:17:18.991945Z",
     "shell.execute_reply.started": "2023-06-09T14:16:43.610711Z"
    },
    "tags": []
   },
   "outputs": [
    {
     "data": {
      "application/vnd.jupyter.widget-view+json": {
       "model_id": "db40c11587ec475d924c6732a3c6236e",
       "version_major": 2,
       "version_minor": 0
      },
      "text/plain": [
       "VBox()"
      ]
     },
     "metadata": {},
     "output_type": "display_data"
    },
    {
     "data": {
      "application/vnd.jupyter.widget-view+json": {
       "model_id": "",
       "version_major": 2,
       "version_minor": 0
      },
      "text/plain": [
       "FloatProgress(value=0.0, bar_style='info', description='Progress:', layout=Layout(height='25px', width='50%'),…"
      ]
     },
     "metadata": {},
     "output_type": "display_data"
    },
    {
     "name": "stdout",
     "output_type": "stream",
     "text": [
      "rddViews: org.apache.spark.rdd.RDD[EcommerceEventParser.Event] = MapPartitionsRDD[3] at filter at <console>:24\n",
      "rddCarts: org.apache.spark.rdd.RDD[EcommerceEventParser.Event] = MapPartitionsRDD[4] at filter at <console>:24\n",
      "rddPurchases: org.apache.spark.rdd.RDD[EcommerceEventParser.Event] = MapPartitionsRDD[5] at filter at <console>:24\n",
      "res6: Long = 63556110\n",
      "res7: Long = 3028920\n",
      "res8: Long = 916939\n"
     ]
    }
   ],
   "source": [
    "val rddViews = rddEvents.filter(x => x.mode == \"view\")\n",
    "val rddCarts = rddEvents.filter(x => x.mode == \"cart\")\n",
    "val rddPurchases = rddEvents.filter(x => x.mode == \"purchase\")\n",
    "\n",
    "rddViews.count()\n",
    "rddCarts.count()\n",
    "rddPurchases.count()"
   ]
  },
  {
   "cell_type": "markdown",
   "id": "45f05e35",
   "metadata": {},
   "source": [
    "\n",
    "![count_vcp_notpart_notcache.PNG](images/count_vcp_notpart_notcache.PNG)"
   ]
  },
  {
   "cell_type": "markdown",
   "id": "004940a7",
   "metadata": {
    "tags": []
   },
   "source": [
    "## Test partitioned: *view*, *cart*, *purchase*"
   ]
  },
  {
   "cell_type": "code",
   "execution_count": 6,
   "id": "ef0f06b5",
   "metadata": {
    "execution": {
     "iopub.execute_input": "2023-06-09T14:33:05.350784Z",
     "iopub.status.busy": "2023-06-09T14:33:05.350464Z",
     "iopub.status.idle": "2023-06-09T14:33:20.667326Z",
     "shell.execute_reply": "2023-06-09T14:33:20.666597Z",
     "shell.execute_reply.started": "2023-06-09T14:33:05.350757Z"
    },
    "tags": []
   },
   "outputs": [
    {
     "data": {
      "application/vnd.jupyter.widget-view+json": {
       "model_id": "ded1624f3de64bbda7e5ec4225054dd3",
       "version_major": 2,
       "version_minor": 0
      },
      "text/plain": [
       "VBox()"
      ]
     },
     "metadata": {},
     "output_type": "display_data"
    },
    {
     "data": {
      "application/vnd.jupyter.widget-view+json": {
       "model_id": "",
       "version_major": 2,
       "version_minor": 0
      },
      "text/plain": [
       "FloatProgress(value=0.0, bar_style='info', description='Progress:', layout=Layout(height='25px', width='50%'),…"
      ]
     },
     "metadata": {},
     "output_type": "display_data"
    },
    {
     "name": "stdout",
     "output_type": "stream",
     "text": [
      "rddEventsPart: org.apache.spark.rdd.RDD[EcommerceEventParser.Event] = CoalescedRDD[3] at coalesce at <console>:24\n",
      "res5: Long = 67501969\n"
     ]
    }
   ],
   "source": [
    "val rddEventsPart = rddEvents.coalesce(60)\n",
    "rddEventsPart.count"
   ]
  },
  {
   "cell_type": "code",
   "execution_count": 8,
   "id": "9e7f0876",
   "metadata": {
    "execution": {
     "iopub.execute_input": "2023-06-09T14:34:58.110582Z",
     "iopub.status.busy": "2023-06-09T14:34:58.110282Z",
     "iopub.status.idle": "2023-06-09T14:35:27.475583Z",
     "shell.execute_reply": "2023-06-09T14:35:27.474678Z",
     "shell.execute_reply.started": "2023-06-09T14:34:58.110556Z"
    },
    "tags": []
   },
   "outputs": [
    {
     "data": {
      "application/vnd.jupyter.widget-view+json": {
       "model_id": "005ecef368fa43fc97ef2589b9487785",
       "version_major": 2,
       "version_minor": 0
      },
      "text/plain": [
       "VBox()"
      ]
     },
     "metadata": {},
     "output_type": "display_data"
    },
    {
     "data": {
      "application/vnd.jupyter.widget-view+json": {
       "model_id": "",
       "version_major": 2,
       "version_minor": 0
      },
      "text/plain": [
       "FloatProgress(value=0.0, bar_style='info', description='Progress:', layout=Layout(height='25px', width='50%'),…"
      ]
     },
     "metadata": {},
     "output_type": "display_data"
    },
    {
     "name": "stdout",
     "output_type": "stream",
     "text": [
      "rddPartitionedViews: org.apache.spark.rdd.RDD[EcommerceEventParser.Event] = MapPartitionsRDD[7] at filter at <console>:24\n",
      "rddPartitionedCarts: org.apache.spark.rdd.RDD[EcommerceEventParser.Event] = MapPartitionsRDD[8] at filter at <console>:24\n",
      "rddPartitionedPurchases: org.apache.spark.rdd.RDD[EcommerceEventParser.Event] = MapPartitionsRDD[9] at filter at <console>:24\n",
      "res11: Long = 63556110\n",
      "res12: Long = 3028920\n",
      "res13: Long = 916939\n"
     ]
    }
   ],
   "source": [
    "val rddPartitionedViews = rddEventsPart.filter(x => x.mode == \"view\")\n",
    "val rddPartitionedCarts = rddEventsPart.filter(x => x.mode == \"cart\")\n",
    "val rddPartitionedPurchases = rddEventsPart.filter(x => x.mode == \"purchase\")\n",
    "\n",
    "rddPartitionedViews.count()\n",
    "rddPartitionedCarts.count()\n",
    "rddPartitionedPurchases.count()"
   ]
  },
  {
   "cell_type": "markdown",
   "id": "c367850a",
   "metadata": {},
   "source": [
    "\n",
    "![count_vcp_part_notcache.PNG](images/count_vcp_part_notcache.PNG)"
   ]
  },
  {
   "cell_type": "markdown",
   "id": "53a81567",
   "metadata": {},
   "source": [
    "## Test not-partitioned cached: *view*, *cart*, *purchase*"
   ]
  },
  {
   "cell_type": "code",
   "execution_count": 9,
   "id": "a019d296",
   "metadata": {
    "execution": {
     "iopub.execute_input": "2023-06-09T14:43:37.593713Z",
     "iopub.status.busy": "2023-06-09T14:43:37.593411Z",
     "iopub.status.idle": "2023-06-09T14:44:27.006041Z",
     "shell.execute_reply": "2023-06-09T14:44:27.005174Z",
     "shell.execute_reply.started": "2023-06-09T14:43:37.593687Z"
    }
   },
   "outputs": [
    {
     "data": {
      "application/vnd.jupyter.widget-view+json": {
       "model_id": "adae0eaa85364bddba9ee5c7befebdeb",
       "version_major": 2,
       "version_minor": 0
      },
      "text/plain": [
       "VBox()"
      ]
     },
     "metadata": {},
     "output_type": "display_data"
    },
    {
     "data": {
      "application/vnd.jupyter.widget-view+json": {
       "model_id": "",
       "version_major": 2,
       "version_minor": 0
      },
      "text/plain": [
       "FloatProgress(value=0.0, bar_style='info', description='Progress:', layout=Layout(height='25px', width='50%'),…"
      ]
     },
     "metadata": {},
     "output_type": "display_data"
    },
    {
     "name": "stdout",
     "output_type": "stream",
     "text": [
      "rddEventsC: rddEvents.type = MapPartitionsRDD[2] at flatMap at <console>:26\n",
      "res14: Long = 67501969\n"
     ]
    }
   ],
   "source": [
    "sc.getPersistentRDDs.foreach{case (k,v) => v.unpersist()}\n",
    "val rddEventsC = rddEvents.cache\n",
    "rddEventsC.count"
   ]
  },
  {
   "cell_type": "code",
   "execution_count": 10,
   "id": "2cf325cf",
   "metadata": {
    "execution": {
     "iopub.execute_input": "2023-06-09T14:46:13.530975Z",
     "iopub.status.busy": "2023-06-09T14:46:13.530646Z",
     "iopub.status.idle": "2023-06-09T14:46:16.799839Z",
     "shell.execute_reply": "2023-06-09T14:46:16.799116Z",
     "shell.execute_reply.started": "2023-06-09T14:46:13.530949Z"
    }
   },
   "outputs": [
    {
     "data": {
      "application/vnd.jupyter.widget-view+json": {
       "model_id": "976eb48837034864a64eef96418aac65",
       "version_major": 2,
       "version_minor": 0
      },
      "text/plain": [
       "VBox()"
      ]
     },
     "metadata": {},
     "output_type": "display_data"
    },
    {
     "data": {
      "application/vnd.jupyter.widget-view+json": {
       "model_id": "",
       "version_major": 2,
       "version_minor": 0
      },
      "text/plain": [
       "FloatProgress(value=0.0, bar_style='info', description='Progress:', layout=Layout(height='25px', width='50%'),…"
      ]
     },
     "metadata": {},
     "output_type": "display_data"
    },
    {
     "name": "stdout",
     "output_type": "stream",
     "text": [
      "rddViewsCache: org.apache.spark.rdd.RDD[EcommerceEventParser.Event] = MapPartitionsRDD[10] at filter at <console>:24\n",
      "rddCartsCache: org.apache.spark.rdd.RDD[EcommerceEventParser.Event] = MapPartitionsRDD[11] at filter at <console>:24\n",
      "rddPurchasesCache: org.apache.spark.rdd.RDD[EcommerceEventParser.Event] = MapPartitionsRDD[12] at filter at <console>:24\n",
      "res16: Long = 63556110\n",
      "res17: Long = 3028920\n",
      "res18: Long = 916939\n"
     ]
    }
   ],
   "source": [
    "val rddViewsCache = rddEventsC.filter(x => x.mode == \"view\")\n",
    "val rddCartsCache = rddEventsC.filter(x => x.mode == \"cart\")\n",
    "val rddPurchasesCache = rddEventsC.filter(x => x.mode == \"purchase\")\n",
    "\n",
    "rddViewsCache.count()\n",
    "rddCartsCache.count()\n",
    "rddPurchasesCache.count()"
   ]
  },
  {
   "cell_type": "markdown",
   "id": "62b35259",
   "metadata": {},
   "source": [
    "\n",
    "![count_vcp_notpart_cache.PNG](images/count_vcp_notpart_cache.PNG)"
   ]
  },
  {
   "cell_type": "markdown",
   "id": "01beba88",
   "metadata": {},
   "source": [
    "## Test partitioned cached: *view*, *cart*, *purchase*"
   ]
  },
  {
   "cell_type": "code",
   "execution_count": 12,
   "id": "ad9f9d3b",
   "metadata": {
    "execution": {
     "iopub.execute_input": "2023-06-09T14:52:36.607332Z",
     "iopub.status.busy": "2023-06-09T14:52:36.607028Z",
     "iopub.status.idle": "2023-06-09T14:53:13.974784Z",
     "shell.execute_reply": "2023-06-09T14:53:13.973881Z",
     "shell.execute_reply.started": "2023-06-09T14:52:36.607306Z"
    },
    "tags": []
   },
   "outputs": [
    {
     "data": {
      "application/vnd.jupyter.widget-view+json": {
       "model_id": "418937a6ed164023b1b532053d8d4fb5",
       "version_major": 2,
       "version_minor": 0
      },
      "text/plain": [
       "VBox()"
      ]
     },
     "metadata": {},
     "output_type": "display_data"
    },
    {
     "data": {
      "application/vnd.jupyter.widget-view+json": {
       "model_id": "",
       "version_major": 2,
       "version_minor": 0
      },
      "text/plain": [
       "FloatProgress(value=0.0, bar_style='info', description='Progress:', layout=Layout(height='25px', width='50%'),…"
      ]
     },
     "metadata": {},
     "output_type": "display_data"
    },
    {
     "name": "stdout",
     "output_type": "stream",
     "text": [
      "rddPartEventsCached: rddEventsPart.type = CoalescedRDD[3] at coalesce at <console>:24\n",
      "res22: Long = 67501969\n"
     ]
    }
   ],
   "source": [
    "sc.getPersistentRDDs.foreach{case (k,v) => v.unpersist()}\n",
    "val rddPartEventsCached = rddEventsPart.cache\n",
    "rddPartEventsCached.count"
   ]
  },
  {
   "cell_type": "code",
   "execution_count": 13,
   "id": "7105de54",
   "metadata": {
    "execution": {
     "iopub.execute_input": "2023-06-09T14:53:41.119376Z",
     "iopub.status.busy": "2023-06-09T14:53:41.118909Z",
     "iopub.status.idle": "2023-06-09T14:53:43.396521Z",
     "shell.execute_reply": "2023-06-09T14:53:43.395625Z",
     "shell.execute_reply.started": "2023-06-09T14:53:41.119333Z"
    },
    "tags": []
   },
   "outputs": [
    {
     "data": {
      "application/vnd.jupyter.widget-view+json": {
       "model_id": "1d2389c763e642f9aea210e435c3141b",
       "version_major": 2,
       "version_minor": 0
      },
      "text/plain": [
       "VBox()"
      ]
     },
     "metadata": {},
     "output_type": "display_data"
    },
    {
     "data": {
      "application/vnd.jupyter.widget-view+json": {
       "model_id": "",
       "version_major": 2,
       "version_minor": 0
      },
      "text/plain": [
       "FloatProgress(value=0.0, bar_style='info', description='Progress:', layout=Layout(height='25px', width='50%'),…"
      ]
     },
     "metadata": {},
     "output_type": "display_data"
    },
    {
     "name": "stdout",
     "output_type": "stream",
     "text": [
      "rddPartViewsCached: org.apache.spark.rdd.RDD[EcommerceEventParser.Event] = MapPartitionsRDD[13] at filter at <console>:24\n",
      "rddPartCartsCached: org.apache.spark.rdd.RDD[EcommerceEventParser.Event] = MapPartitionsRDD[14] at filter at <console>:24\n",
      "rddPartPurchasesCached: org.apache.spark.rdd.RDD[EcommerceEventParser.Event] = MapPartitionsRDD[15] at filter at <console>:24\n",
      "res24: Long = 63556110\n",
      "res25: Long = 3028920\n",
      "res26: Long = 916939\n"
     ]
    }
   ],
   "source": [
    "val rddPartViewsCached = rddPartEventsCached.filter(x => x.mode == \"view\")\n",
    "val rddPartCartsCached = rddPartEventsCached.filter(x => x.mode == \"cart\")\n",
    "val rddPartPurchasesCached = rddPartEventsCached.filter(x => x.mode == \"purchase\")\n",
    "\n",
    "rddPartViewsCached.count()\n",
    "rddPartCartsCached.count()\n",
    "rddPartPurchasesCached.count()"
   ]
  },
  {
   "cell_type": "markdown",
   "id": "2fc87320",
   "metadata": {},
   "source": [
    "![count_vcp_part_cache.PNG](images/count_vcp_part_cache.PNG)"
   ]
  },
  {
   "cell_type": "markdown",
   "id": "d9f75a45",
   "metadata": {},
   "source": [
    "## Test not-partitioned: *view* cached, *cart* cached, *purchase* cached"
   ]
  },
  {
   "cell_type": "code",
   "execution_count": 18,
   "id": "41f0ef0a",
   "metadata": {
    "execution": {
     "iopub.execute_input": "2023-06-09T15:19:32.409074Z",
     "iopub.status.busy": "2023-06-09T15:19:32.408702Z",
     "iopub.status.idle": "2023-06-09T15:20:33.847898Z",
     "shell.execute_reply": "2023-06-09T15:20:33.846826Z",
     "shell.execute_reply.started": "2023-06-09T15:19:32.409046Z"
    },
    "tags": []
   },
   "outputs": [
    {
     "data": {
      "application/vnd.jupyter.widget-view+json": {
       "model_id": "8eb1ce4cc58f47bab8e81f23ce4758e2",
       "version_major": 2,
       "version_minor": 0
      },
      "text/plain": [
       "VBox()"
      ]
     },
     "metadata": {},
     "output_type": "display_data"
    },
    {
     "data": {
      "application/vnd.jupyter.widget-view+json": {
       "model_id": "",
       "version_major": 2,
       "version_minor": 0
      },
      "text/plain": [
       "FloatProgress(value=0.0, bar_style='info', description='Progress:', layout=Layout(height='25px', width='50%'),…"
      ]
     },
     "metadata": {},
     "output_type": "display_data"
    },
    {
     "name": "stdout",
     "output_type": "stream",
     "text": [
      "rddViewsC: org.apache.spark.rdd.RDD[EcommerceEventParser.Event] = MapPartitionsRDD[22] at filter at <console>:24\n",
      "rddCartsC: org.apache.spark.rdd.RDD[EcommerceEventParser.Event] = MapPartitionsRDD[23] at filter at <console>:24\n",
      "rddPurchasesC: org.apache.spark.rdd.RDD[EcommerceEventParser.Event] = MapPartitionsRDD[24] at filter at <console>:24\n",
      "res43: Long = 63556110\n",
      "res44: Long = 3028920\n",
      "res45: Long = 916939\n"
     ]
    }
   ],
   "source": [
    "sc.getPersistentRDDs.foreach{case (k,v) => v.unpersist()}\n",
    "val rddViewsC = rddEvents.filter(x => x.mode == \"view\").cache\n",
    "val rddCartsC = rddEvents.filter(x => x.mode == \"cart\").cache\n",
    "val rddPurchasesC = rddEvents.filter(x => x.mode == \"purchase\").cache\n",
    "\n",
    "rddViewsC.count()\n",
    "rddCartsC.count()\n",
    "rddPurchasesC.count()"
   ]
  },
  {
   "cell_type": "markdown",
   "id": "573e7362",
   "metadata": {},
   "source": [
    "\n",
    "![vcpCached_notpart.PNG](images/vcpCached_notpart.PNG)"
   ]
  },
  {
   "cell_type": "code",
   "execution_count": 19,
   "id": "4116a885",
   "metadata": {
    "execution": {
     "iopub.execute_input": "2023-06-09T15:22:28.700949Z",
     "iopub.status.busy": "2023-06-09T15:22:28.700604Z",
     "iopub.status.idle": "2023-06-09T15:22:29.455216Z",
     "shell.execute_reply": "2023-06-09T15:22:29.454405Z",
     "shell.execute_reply.started": "2023-06-09T15:22:28.700921Z"
    }
   },
   "outputs": [
    {
     "data": {
      "application/vnd.jupyter.widget-view+json": {
       "model_id": "ca12eefecc124a31a7079fac9f1a8aee",
       "version_major": 2,
       "version_minor": 0
      },
      "text/plain": [
       "VBox()"
      ]
     },
     "metadata": {},
     "output_type": "display_data"
    },
    {
     "data": {
      "application/vnd.jupyter.widget-view+json": {
       "model_id": "",
       "version_major": 2,
       "version_minor": 0
      },
      "text/plain": [
       "FloatProgress(value=0.0, bar_style='info', description='Progress:', layout=Layout(height='25px', width='50%'),…"
      ]
     },
     "metadata": {},
     "output_type": "display_data"
    },
    {
     "name": "stdout",
     "output_type": "stream",
     "text": [
      "res46: Long = 63556110\n",
      "res47: Long = 3028920\n",
      "res48: Long = 916939\n"
     ]
    }
   ],
   "source": [
    "rddViewsC.count()\n",
    "rddCartsC.count()\n",
    "rddPurchasesC.count()"
   ]
  },
  {
   "cell_type": "markdown",
   "id": "f4bebddc",
   "metadata": {},
   "source": [
    "\n",
    "![count_vcpCached_notpart.PNG](images/count_vcpCached_notpart.PNG)"
   ]
  },
  {
   "cell_type": "markdown",
   "id": "0f9ec957",
   "metadata": {},
   "source": [
    "## Test partitioned: *view* cached, *cart* cached, *purchase* cached"
   ]
  },
  {
   "cell_type": "code",
   "execution_count": 17,
   "id": "af3d1eaf",
   "metadata": {
    "execution": {
     "iopub.execute_input": "2023-06-09T15:18:17.382653Z",
     "iopub.status.busy": "2023-06-09T15:18:17.382330Z",
     "iopub.status.idle": "2023-06-09T15:19:24.846070Z",
     "shell.execute_reply": "2023-06-09T15:19:24.845200Z",
     "shell.execute_reply.started": "2023-06-09T15:18:17.382627Z"
    },
    "tags": []
   },
   "outputs": [
    {
     "data": {
      "application/vnd.jupyter.widget-view+json": {
       "model_id": "079e8b062f354bef811311a20cfed9a4",
       "version_major": 2,
       "version_minor": 0
      },
      "text/plain": [
       "VBox()"
      ]
     },
     "metadata": {},
     "output_type": "display_data"
    },
    {
     "data": {
      "application/vnd.jupyter.widget-view+json": {
       "model_id": "",
       "version_major": 2,
       "version_minor": 0
      },
      "text/plain": [
       "FloatProgress(value=0.0, bar_style='info', description='Progress:', layout=Layout(height='25px', width='50%'),…"
      ]
     },
     "metadata": {},
     "output_type": "display_data"
    },
    {
     "name": "stdout",
     "output_type": "stream",
     "text": [
      "rddPartitionedViews: org.apache.spark.rdd.RDD[EcommerceEventParser.Event] = MapPartitionsRDD[19] at filter at <console>:24\n",
      "rddPartitionedCarts: org.apache.spark.rdd.RDD[EcommerceEventParser.Event] = MapPartitionsRDD[20] at filter at <console>:24\n",
      "rddPartitionedPurchases: org.apache.spark.rdd.RDD[EcommerceEventParser.Event] = MapPartitionsRDD[21] at filter at <console>:24\n",
      "res38: Long = 63556110\n",
      "res39: Long = 3028920\n",
      "res40: Long = 916939\n"
     ]
    }
   ],
   "source": [
    "sc.getPersistentRDDs.foreach{case (k,v) => v.unpersist()}\n",
    "val rddPartitionedViews = rddEventsPart.filter(x => x.mode == \"view\").cache\n",
    "val rddPartitionedCarts = rddEventsPart.filter(x => x.mode == \"cart\").cache\n",
    "val rddPartitionedPurchases = rddEventsPart.filter(x => x.mode == \"purchase\").cache\n",
    "\n",
    "rddPartitionedViews.count()\n",
    "rddPartitionedCarts.count()\n",
    "rddPartitionedPurchases.count()"
   ]
  },
  {
   "cell_type": "markdown",
   "id": "7cb5f301",
   "metadata": {},
   "source": [
    "\n",
    "![vcpCached_part.PNG](images/vcpCached_part.PNG)"
   ]
  },
  {
   "cell_type": "code",
   "execution_count": 16,
   "id": "97acc7f3",
   "metadata": {
    "execution": {
     "iopub.execute_input": "2023-06-09T15:07:59.272496Z",
     "iopub.status.busy": "2023-06-09T15:07:59.272195Z",
     "iopub.status.idle": "2023-06-09T15:08:00.025975Z",
     "shell.execute_reply": "2023-06-09T15:08:00.025053Z",
     "shell.execute_reply.started": "2023-06-09T15:07:59.272471Z"
    }
   },
   "outputs": [
    {
     "data": {
      "application/vnd.jupyter.widget-view+json": {
       "model_id": "f24ced14503a4d9ca8c0af88e3d704fb",
       "version_major": 2,
       "version_minor": 0
      },
      "text/plain": [
       "VBox()"
      ]
     },
     "metadata": {},
     "output_type": "display_data"
    },
    {
     "data": {
      "application/vnd.jupyter.widget-view+json": {
       "model_id": "",
       "version_major": 2,
       "version_minor": 0
      },
      "text/plain": [
       "FloatProgress(value=0.0, bar_style='info', description='Progress:', layout=Layout(height='25px', width='50%'),…"
      ]
     },
     "metadata": {},
     "output_type": "display_data"
    },
    {
     "name": "stdout",
     "output_type": "stream",
     "text": [
      "res33: Long = 63556110\n",
      "res34: Long = 3028920\n",
      "res35: Long = 916939\n"
     ]
    }
   ],
   "source": [
    "rddPartitionedViews.count()\n",
    "rddPartitionedCarts.count()\n",
    "rddPartitionedPurchases.count()"
   ]
  },
  {
   "cell_type": "markdown",
   "id": "b92cef00",
   "metadata": {},
   "source": [
    "\n",
    "![count_vcpCached_part.PNG](images/count_vcpCached_part.PNG)"
   ]
  },
  {
   "cell_type": "markdown",
   "id": "e53624b5",
   "metadata": {},
   "source": [
    "Come previsto, i risultati dei test precedenti confermano che, con la configurazione attuale del cluster, non è strettamente necessario ridefinire il numero di partizioni tramite l'utilizzo della funzionalità ```coalesce```. Nonostante ciò, è stata presa la decisione di mantenere questa modalità poiché, seppur in modo marginale, contribuisce al miglioramento delle prestazioni e ad una distribuzione più efficiente del carico di lavoro tra i core."
   ]
  },
  {
   "cell_type": "markdown",
   "id": "6572fa83",
   "metadata": {},
   "source": [
    "## Test serializzazione"
   ]
  },
  {
   "cell_type": "markdown",
   "id": "d1bf3fbb",
   "metadata": {},
   "source": [
    "Al fine di agevolare l'analisi dei dati, è stato implementato un secondo parser che ha comportato una modifica degli elementi del dataset originale all'interno dell'RDD risultante: non è stato preso in consiedazione l'```event_time```, in quanto considerato superfluo in questo contesto. \n",
    "Successivamente, si è voluto approfondire l'aspetto della **serializzazione** dei dati, riconosciuto come fondamentale anche durante le sessioni di laboratorio, soprattutto quando si ha a che fare con grandi quantità di dati come nel caso seguente. \n",
    "\n",
    "La serializzazione dei dati di un RDD prima di caricarli in memoria RAM ha lo scopo di ottimizzare l'efficienza e la velocità delle operazioni sull'RDD stesso, a fronte di un ragionevole costo in termini computazionali. I principali vantaggi della serializzazione riguadano la **riduzione dello spazio di memoria richiesto per memorizzare i dati** e **prestazioni di trasferimento dati migliorare**. Si può dire che la serializzazione dei dati migliori l'efficienza complessiva del sistema, consentendo un'elaborazione più veloce e ottimizzata di questi ultimi."
   ]
  },
  {
   "cell_type": "code",
   "execution_count": 36,
   "id": "f17f1e96",
   "metadata": {
    "execution": {
     "iopub.execute_input": "2023-06-09T17:43:27.823783Z",
     "iopub.status.busy": "2023-06-09T17:43:27.823468Z",
     "iopub.status.idle": "2023-06-09T17:43:28.071765Z",
     "shell.execute_reply": "2023-06-09T17:43:28.071072Z",
     "shell.execute_reply.started": "2023-06-09T17:43:27.823756Z"
    },
    "tags": []
   },
   "outputs": [
    {
     "data": {
      "application/vnd.jupyter.widget-view+json": {
       "model_id": "44f0dfda08c3487e9b8e0002aa497b84",
       "version_major": 2,
       "version_minor": 0
      },
      "text/plain": [
       "VBox()"
      ]
     },
     "metadata": {},
     "output_type": "display_data"
    },
    {
     "data": {
      "application/vnd.jupyter.widget-view+json": {
       "model_id": "",
       "version_major": 2,
       "version_minor": 0
      },
      "text/plain": [
       "FloatProgress(value=0.0, bar_style='info', description='Progress:', layout=Layout(height='25px', width='50%'),…"
      ]
     },
     "metadata": {},
     "output_type": "display_data"
    }
   ],
   "source": [
    "sc.getPersistentRDDs.foreach{case (k,v) => v.unpersist()}"
   ]
  },
  {
   "cell_type": "code",
   "execution_count": 3,
   "id": "0b1e3f53",
   "metadata": {
    "execution": {
     "iopub.execute_input": "2023-06-09T18:08:44.976539Z",
     "iopub.status.busy": "2023-06-09T18:08:44.976237Z",
     "iopub.status.idle": "2023-06-09T18:08:45.730010Z",
     "shell.execute_reply": "2023-06-09T18:08:45.729222Z",
     "shell.execute_reply.started": "2023-06-09T18:08:44.976514Z"
    },
    "tags": []
   },
   "outputs": [
    {
     "data": {
      "application/vnd.jupyter.widget-view+json": {
       "model_id": "43a3333a4d364c1c893ed2de033bcb9f",
       "version_major": 2,
       "version_minor": 0
      },
      "text/plain": [
       "VBox()"
      ]
     },
     "metadata": {},
     "output_type": "display_data"
    },
    {
     "data": {
      "application/vnd.jupyter.widget-view+json": {
       "model_id": "",
       "version_major": 2,
       "version_minor": 0
      },
      "text/plain": [
       "FloatProgress(value=0.0, bar_style='info', description='Progress:', layout=Layout(height='25px', width='50%'),…"
      ]
     },
     "metadata": {},
     "output_type": "display_data"
    },
    {
     "name": "stdout",
     "output_type": "stream",
     "text": [
      "parser: (line: String)Option[(String, Long, Long, String, String, Double, Long, String)]\n"
     ]
    }
   ],
   "source": [
    "//(mode, productId, categoryId, categoryCode, brand, price, userId, userSession)\n",
    "\n",
    "def parser(line:String) = {\n",
    "    try{\n",
    "      val input = line.split(',')\n",
    "      Some(input(1),\n",
    "           input(2).toLong,\n",
    "           input(3).toLong,\n",
    "           input(4),\n",
    "           input(5),\n",
    "           input(6).toDouble,\n",
    "           input(7).toLong,\n",
    "           input(8)\n",
    "        )\n",
    "    } catch {\n",
    "      case _: Throwable => None\n",
    "    }\n",
    "}"
   ]
  },
  {
   "cell_type": "code",
   "execution_count": 35,
   "id": "19390e5e",
   "metadata": {
    "execution": {
     "iopub.execute_input": "2023-06-09T17:42:28.946981Z",
     "iopub.status.busy": "2023-06-09T17:42:28.946657Z",
     "iopub.status.idle": "2023-06-09T17:43:00.295955Z",
     "shell.execute_reply": "2023-06-09T17:43:00.295009Z",
     "shell.execute_reply.started": "2023-06-09T17:42:28.946954Z"
    },
    "tags": []
   },
   "outputs": [
    {
     "data": {
      "application/vnd.jupyter.widget-view+json": {
       "model_id": "f311cc5c78b24d7283c0f62fa7313954",
       "version_major": 2,
       "version_minor": 0
      },
      "text/plain": [
       "VBox()"
      ]
     },
     "metadata": {},
     "output_type": "display_data"
    },
    {
     "data": {
      "application/vnd.jupyter.widget-view+json": {
       "model_id": "",
       "version_major": 2,
       "version_minor": 0
      },
      "text/plain": [
       "FloatProgress(value=0.0, bar_style='info', description='Progress:', layout=Layout(height='25px', width='50%'),…"
      ]
     },
     "metadata": {},
     "output_type": "display_data"
    },
    {
     "name": "stdout",
     "output_type": "stream",
     "text": [
      "import org.apache.spark.storage.StorageLevel\n",
      "rddESerialized: org.apache.spark.rdd.RDD[(String, Long, Long, String, String, Double, Long, String)] = CoalescedRDD[48] at coalesce at <console>:42\n",
      "res72: Long = 67501969\n"
     ]
    }
   ],
   "source": [
    "import org.apache.spark.storage.StorageLevel\n",
    "\n",
    "val rddESerialized = sc.textFile(path_events_ecommerce).\n",
    "    flatMap(x => parser(x)).\n",
    "    coalesce(60).\n",
    "    persist(StorageLevel.MEMORY_ONLY_SER)\n",
    "\n",
    "rddESerialized.count()"
   ]
  },
  {
   "cell_type": "markdown",
   "id": "d1afe7e2",
   "metadata": {},
   "source": [
    "Dai riusltati sottostanti si può notare come la serializzazione dei dati abbia ridotto enormemente la dimensione dell'RDD in memoria. Si è passati da 34.2GB a 9.1GB, con un fattore di riduzione del *73.4%*."
   ]
  },
  {
   "cell_type": "markdown",
   "id": "64db1862",
   "metadata": {},
   "source": [
    "![serialized_.PNG](images/serialized_.PNG)\n",
    "![serialized_job.PNG](images/serialized_job.PNG)"
   ]
  },
  {
   "cell_type": "markdown",
   "id": "7103cad0",
   "metadata": {
    "execution": {
     "iopub.execute_input": "2023-06-09T16:23:06.730181Z",
     "iopub.status.busy": "2023-06-09T16:23:06.729863Z",
     "iopub.status.idle": "2023-06-09T16:23:06.980623Z",
     "shell.execute_reply": "2023-06-09T16:23:06.979717Z",
     "shell.execute_reply.started": "2023-06-09T16:23:06.730154Z"
    }
   },
   "source": [
    "# Analisi sui dati"
   ]
  },
  {
   "cell_type": "markdown",
   "id": "1be7f0d1",
   "metadata": {
    "execution": {
     "iopub.execute_input": "2023-06-09T16:25:44.274920Z",
     "iopub.status.busy": "2023-06-09T16:25:44.274620Z",
     "iopub.status.idle": "2023-06-09T16:25:44.529049Z",
     "shell.execute_reply": "2023-06-09T16:25:44.528151Z",
     "shell.execute_reply.started": "2023-06-09T16:25:44.274894Z"
    }
   },
   "source": [
    "La serializzazione dei dati, sebbene presenti vantaggi come la riduzione della dimensione e la possibilità di caching efficiente, presenta uno svantaggio principale: limita l'accesso dettagliato al contenuto dei record e richiede l'uso di un **serializzatore** appositamente configurato. *KryoSerializer* è il serializzatore suggerito da Spark che supporta questo tipo di operazioni, ma si è lasciato l'approfondimento di tale strumento per un eventuale sviluppo futuro. \n",
    "\n",
    "\n",
    "Al fine di eseguire operazioni complesse come la pre-aggregazione, risulta più pratico lavorare direttamente sull'RDD non serializzato. Per tali ragioni, l'analisi sui dati è stata effettuata a partire dall'RDD d'origine.\n",
    "\n",
    "\n",
    "#### *N.B*: prima di eseguire il codice seguente, ricordare di lanciare il codice relativo al *parser* dichiarato ad inizio file."
   ]
  },
  {
   "cell_type": "code",
   "execution_count": 8,
   "id": "ba6aa992",
   "metadata": {
    "execution": {
     "iopub.execute_input": "2023-06-11T17:04:28.726664Z",
     "iopub.status.busy": "2023-06-11T17:04:28.726349Z",
     "iopub.status.idle": "2023-06-11T17:05:02.161255Z",
     "shell.execute_reply": "2023-06-11T17:05:02.160324Z",
     "shell.execute_reply.started": "2023-06-11T17:04:28.726638Z"
    },
    "tags": []
   },
   "outputs": [
    {
     "data": {
      "application/vnd.jupyter.widget-view+json": {
       "model_id": "73c3ab00d9044f74b3af10d14c1628b7",
       "version_major": 2,
       "version_minor": 0
      },
      "text/plain": [
       "VBox()"
      ]
     },
     "metadata": {},
     "output_type": "display_data"
    },
    {
     "data": {
      "application/vnd.jupyter.widget-view+json": {
       "model_id": "",
       "version_major": 2,
       "version_minor": 0
      },
      "text/plain": [
       "FloatProgress(value=0.0, bar_style='info', description='Progress:', layout=Layout(height='25px', width='50%'),…"
      ]
     },
     "metadata": {},
     "output_type": "display_data"
    },
    {
     "name": "stdout",
     "output_type": "stream",
     "text": [
      "rddE_Partitioned: org.apache.spark.rdd.RDD[EcommerceEventParser.Event] = CoalescedRDD[3] at coalesce at <console>:27\n",
      "rddE_View_Cache: org.apache.spark.rdd.RDD[(String, Long, Long)] = MapPartitionsRDD[5] at filter at <console>:24\n",
      "Record totali: 63556110"
     ]
    }
   ],
   "source": [
    "sc.getPersistentRDDs.foreach{case (k,v) => v.unpersist()}\n",
    "\n",
    "val rddE_Partitioned =  sc.textFile(path_events_ecommerce).flatMap(EcommerceEventParser.parse).coalesce(60)\n",
    "val rddE_View_Cache = rddE_Partitioned.map(x => (x.mode, x.productId, x.userId)).filter(x => x._1 == \"view\").cache\n",
    "print(\"Record totali: \"+rddE_View_Cache.count)"
   ]
  },
  {
   "cell_type": "markdown",
   "id": "5f4814c4",
   "metadata": {},
   "source": [
    "## Query Esplorative"
   ]
  },
  {
   "cell_type": "markdown",
   "id": "5faaa0a6",
   "metadata": {},
   "source": [
    "## Numero di prodotti visualizzati - ```view```"
   ]
  },
  {
   "cell_type": "code",
   "execution_count": 9,
   "id": "81c78a58",
   "metadata": {
    "execution": {
     "iopub.execute_input": "2023-06-11T17:05:21.048997Z",
     "iopub.status.busy": "2023-06-11T17:05:21.048662Z",
     "iopub.status.idle": "2023-06-11T17:05:21.845824Z",
     "shell.execute_reply": "2023-06-11T17:05:21.844830Z",
     "shell.execute_reply.started": "2023-06-11T17:05:21.048967Z"
    },
    "tags": []
   },
   "outputs": [
    {
     "data": {
      "application/vnd.jupyter.widget-view+json": {
       "model_id": "7e40ce792a544c778c0b4ae8c1225bfe",
       "version_major": 2,
       "version_minor": 0
      },
      "text/plain": [
       "VBox()"
      ]
     },
     "metadata": {},
     "output_type": "display_data"
    },
    {
     "data": {
      "application/vnd.jupyter.widget-view+json": {
       "model_id": "",
       "version_major": 2,
       "version_minor": 0
      },
      "text/plain": [
       "FloatProgress(value=0.0, bar_style='info', description='Progress:', layout=Layout(height='25px', width='50%'),…"
      ]
     },
     "metadata": {},
     "output_type": "display_data"
    },
    {
     "name": "stdout",
     "output_type": "stream",
     "text": [
      "productVieed: Long = 63556110\n",
      "Numero di prodotti visualizzati: 63556110\n"
     ]
    }
   ],
   "source": [
    "val productVieed = rddE_View_Cache.count\n",
    "println(\"Numero di prodotti visualizzati: \"+productVieed)"
   ]
  },
  {
   "cell_type": "markdown",
   "id": "ca776b8b",
   "metadata": {
    "execution": {
     "iopub.execute_input": "2023-06-09T18:56:01.965990Z",
     "iopub.status.busy": "2023-06-09T18:56:01.965621Z",
     "iopub.status.idle": "2023-06-09T18:56:02.212169Z",
     "shell.execute_reply": "2023-06-09T18:56:02.211327Z",
     "shell.execute_reply.started": "2023-06-09T18:56:01.965960Z"
    }
   },
   "source": [
    "## Numero di prodotti distinti visualizzati"
   ]
  },
  {
   "cell_type": "code",
   "execution_count": 10,
   "id": "b35752f4",
   "metadata": {
    "execution": {
     "iopub.execute_input": "2023-06-11T17:05:36.431283Z",
     "iopub.status.busy": "2023-06-11T17:05:36.430980Z",
     "iopub.status.idle": "2023-06-11T17:05:45.750705Z",
     "shell.execute_reply": "2023-06-11T17:05:45.749942Z",
     "shell.execute_reply.started": "2023-06-11T17:05:36.431259Z"
    },
    "tags": []
   },
   "outputs": [
    {
     "data": {
      "application/vnd.jupyter.widget-view+json": {
       "model_id": "2417e35c76dc4ed29980e3516649077e",
       "version_major": 2,
       "version_minor": 0
      },
      "text/plain": [
       "VBox()"
      ]
     },
     "metadata": {},
     "output_type": "display_data"
    },
    {
     "data": {
      "application/vnd.jupyter.widget-view+json": {
       "model_id": "",
       "version_major": 2,
       "version_minor": 0
      },
      "text/plain": [
       "FloatProgress(value=0.0, bar_style='info', description='Progress:', layout=Layout(height='25px', width='50%'),…"
      ]
     },
     "metadata": {},
     "output_type": "display_data"
    },
    {
     "name": "stdout",
     "output_type": "stream",
     "text": [
      "rddE_View_Dist: org.apache.spark.rdd.RDD[Long] = MapPartitionsRDD[9] at distinct at <console>:25\n",
      "Numero di prodotti distinti visualizzati: 190662\n"
     ]
    }
   ],
   "source": [
    "//productId\n",
    "val rddE_View_Dist = rddE_View_Cache.map(x => x._2).distinct\n",
    "println(\"Numero di prodotti distinti visualizzati: \"+rddE_View_Dist.count)"
   ]
  },
  {
   "cell_type": "markdown",
   "id": "07638bf5",
   "metadata": {},
   "source": [
    "## Numero di prodotti distinti visualizzati dagli utenti"
   ]
  },
  {
   "cell_type": "code",
   "execution_count": 11,
   "id": "db2bf799",
   "metadata": {
    "execution": {
     "iopub.execute_input": "2023-06-11T17:05:48.080371Z",
     "iopub.status.busy": "2023-06-11T17:05:48.080064Z",
     "iopub.status.idle": "2023-06-11T17:06:05.424595Z",
     "shell.execute_reply": "2023-06-11T17:06:05.423547Z",
     "shell.execute_reply.started": "2023-06-11T17:05:48.080346Z"
    },
    "tags": []
   },
   "outputs": [
    {
     "data": {
      "application/vnd.jupyter.widget-view+json": {
       "model_id": "93e27294d3e542d4989abab263166bd1",
       "version_major": 2,
       "version_minor": 0
      },
      "text/plain": [
       "VBox()"
      ]
     },
     "metadata": {},
     "output_type": "display_data"
    },
    {
     "data": {
      "application/vnd.jupyter.widget-view+json": {
       "model_id": "",
       "version_major": 2,
       "version_minor": 0
      },
      "text/plain": [
       "FloatProgress(value=0.0, bar_style='info', description='Progress:', layout=Layout(height='25px', width='50%'),…"
      ]
     },
     "metadata": {},
     "output_type": "display_data"
    },
    {
     "name": "stdout",
     "output_type": "stream",
     "text": [
      "rddE_User_View_Dist: org.apache.spark.rdd.RDD[(Long, Long)] = MapPartitionsRDD[13] at distinct at <console>:25\n",
      "Numero di prodotti distinti visualizzati dagli utenti: 34437947\n"
     ]
    }
   ],
   "source": [
    "//userId, productId\n",
    "val rddE_User_View_Dist = rddE_View_Cache.map(x => (x._3, x._2)).distinct\n",
    "println(\"Numero di prodotti distinti visualizzati dagli utenti: \"+rddE_User_View_Dist.count)"
   ]
  },
  {
   "cell_type": "markdown",
   "id": "6e4b1e0a",
   "metadata": {},
   "source": [
    "## Numero di prodotti aggiunti al carrello - ```cart```"
   ]
  },
  {
   "cell_type": "code",
   "execution_count": 12,
   "id": "cadf3a33",
   "metadata": {
    "execution": {
     "iopub.execute_input": "2023-06-11T17:06:33.810381Z",
     "iopub.status.busy": "2023-06-11T17:06:33.810033Z",
     "iopub.status.idle": "2023-06-11T17:06:47.132558Z",
     "shell.execute_reply": "2023-06-11T17:06:47.131801Z",
     "shell.execute_reply.started": "2023-06-11T17:06:33.810353Z"
    },
    "tags": []
   },
   "outputs": [
    {
     "data": {
      "application/vnd.jupyter.widget-view+json": {
       "model_id": "c0ecf65ec3c642958f251a0710548595",
       "version_major": 2,
       "version_minor": 0
      },
      "text/plain": [
       "VBox()"
      ]
     },
     "metadata": {},
     "output_type": "display_data"
    },
    {
     "data": {
      "application/vnd.jupyter.widget-view+json": {
       "model_id": "",
       "version_major": 2,
       "version_minor": 0
      },
      "text/plain": [
       "FloatProgress(value=0.0, bar_style='info', description='Progress:', layout=Layout(height='25px', width='50%'),…"
      ]
     },
     "metadata": {},
     "output_type": "display_data"
    },
    {
     "name": "stdout",
     "output_type": "stream",
     "text": [
      "rddE_Cart_Cache: org.apache.spark.rdd.RDD[(String, Long, String)] = MapPartitionsRDD[15] at filter at <console>:24\n",
      "rddE_Cart: Long = 3028920\n",
      "Numero di prodotti aggiunti al carrello: 3028920\n"
     ]
    }
   ],
   "source": [
    "sc.getPersistentRDDs.foreach{case (k,v) => v.unpersist()}\n",
    "val rddE_Cart_Cache = rddE_Partitioned.map(x => (x.mode, x.productId, x.userSession)).filter(x => x._1 == \"cart\").cache\n",
    "\n",
    "val rddE_Cart = rddE_Cart_Cache.count\n",
    "println(\"Numero di prodotti aggiunti al carrello: \"+rddE_Cart)"
   ]
  },
  {
   "cell_type": "markdown",
   "id": "4e67c0d5",
   "metadata": {},
   "source": [
    "## Numero di prodotti nel carrello per sessione\n",
    "\n",
    "In questa analisi si è deciso di conteggiare *lo stesso prodotto* aggiunto al carrello più volte *nella stessa sessione*. "
   ]
  },
  {
   "cell_type": "code",
   "execution_count": 13,
   "id": "a2b20949",
   "metadata": {
    "execution": {
     "iopub.execute_input": "2023-06-11T17:06:49.269875Z",
     "iopub.status.busy": "2023-06-11T17:06:49.269569Z",
     "iopub.status.idle": "2023-06-11T17:06:56.593828Z",
     "shell.execute_reply": "2023-06-11T17:06:56.592876Z",
     "shell.execute_reply.started": "2023-06-11T17:06:49.269848Z"
    },
    "tags": []
   },
   "outputs": [
    {
     "data": {
      "application/vnd.jupyter.widget-view+json": {
       "model_id": "e8ed4a7ab48d412ab8f612acdcb1d1f1",
       "version_major": 2,
       "version_minor": 0
      },
      "text/plain": [
       "VBox()"
      ]
     },
     "metadata": {},
     "output_type": "display_data"
    },
    {
     "data": {
      "application/vnd.jupyter.widget-view+json": {
       "model_id": "",
       "version_major": 2,
       "version_minor": 0
      },
      "text/plain": [
       "FloatProgress(value=0.0, bar_style='info', description='Progress:', layout=Layout(height='25px', width='50%'),…"
      ]
     },
     "metadata": {},
     "output_type": "display_data"
    },
    {
     "name": "stdout",
     "output_type": "stream",
     "text": [
      "rddE_CartPerSession: org.apache.spark.rdd.RDD[(String, Int)] = ShuffledRDD[17] at aggregateByKey at <console>:25\n",
      "(8c322efd-e368-42ae-9b71-37351e74ec55,709)\n",
      "(42e83712-4c9b-c40b-7cc5-9beb15fe4e9b,414)\n",
      "(0b1c58be-29a4-4bb1-909f-07211e51ed55,389)\n",
      "(c491177d-d680-4104-8b08-bc6952e910d9,299)\n",
      "(7789e256-97cd-4481-9f0f-cffd9a2e6003,237)\n",
      "(1cbaa67f-a1c1-4b3c-9559-100a39a4c1c0,207)\n",
      "(f2a7fef1-632e-420e-a165-702229fa7582,203)\n",
      "(84f2e900-9da5-c970-7a9e-6c573b03406c,193)\n",
      "(9bcd9a7b-1180-4dfc-aaa0-2897d25fd3cd,192)\n",
      "(da41d673-1b99-4feb-a4e4-fa8dd4c53ebd,186)\n"
     ]
    }
   ],
   "source": [
    "//userSession, productId\n",
    "val rddE_CartPerSession = rddE_Cart_Cache.map(x => (x._3, x._2)).aggregateByKey(0)((a,v) => a+1, (a1, a2)=> a1+a2)\n",
    "rddE_CartPerSession.sortBy(_._2, false).collect().take(10).foreach(println(_))"
   ]
  },
  {
   "cell_type": "markdown",
   "id": "f5351223",
   "metadata": {},
   "source": [
    "## Numero di prodotti acquistati - ```purchase```"
   ]
  },
  {
   "cell_type": "code",
   "execution_count": 14,
   "id": "9433e161",
   "metadata": {
    "execution": {
     "iopub.execute_input": "2023-06-11T17:06:58.984131Z",
     "iopub.status.busy": "2023-06-11T17:06:58.983835Z",
     "iopub.status.idle": "2023-06-11T17:07:10.304604Z",
     "shell.execute_reply": "2023-06-11T17:07:10.303545Z",
     "shell.execute_reply.started": "2023-06-11T17:06:58.984106Z"
    },
    "tags": []
   },
   "outputs": [
    {
     "data": {
      "application/vnd.jupyter.widget-view+json": {
       "model_id": "e7fe0f8e1d504a509a53048f9f7a571b",
       "version_major": 2,
       "version_minor": 0
      },
      "text/plain": [
       "VBox()"
      ]
     },
     "metadata": {},
     "output_type": "display_data"
    },
    {
     "data": {
      "application/vnd.jupyter.widget-view+json": {
       "model_id": "",
       "version_major": 2,
       "version_minor": 0
      },
      "text/plain": [
       "FloatProgress(value=0.0, bar_style='info', description='Progress:', layout=Layout(height='25px', width='50%'),…"
      ]
     },
     "metadata": {},
     "output_type": "display_data"
    },
    {
     "name": "stdout",
     "output_type": "stream",
     "text": [
      "rddE_Purchase_Cache: org.apache.spark.rdd.RDD[(String, Long, String, String, Double, Long, String)] = MapPartitionsRDD[24] at filter at <console>:24\n",
      "Numero di prodotti acquistati: 916939\n"
     ]
    }
   ],
   "source": [
    "sc.getPersistentRDDs.foreach{case (k,v) => v.unpersist()}\n",
    "val rddE_Purchase_Cache = rddE_Partitioned.map(x => (x.mode, x.productId, x.categoryCode, x.brand, x.price, x.userId, x.userSession)).filter(x => x._1 == \"purchase\").cache\n",
    "\n",
    "println(\"Numero di prodotti acquistati: \"+rddE_Purchase_Cache.count)"
   ]
  },
  {
   "cell_type": "markdown",
   "id": "8383393b",
   "metadata": {},
   "source": [
    "## Numero di ordini distinti"
   ]
  },
  {
   "cell_type": "code",
   "execution_count": 15,
   "id": "bec973f7",
   "metadata": {
    "execution": {
     "iopub.execute_input": "2023-06-11T17:07:12.135075Z",
     "iopub.status.busy": "2023-06-11T17:07:12.134765Z",
     "iopub.status.idle": "2023-06-11T17:07:13.424382Z",
     "shell.execute_reply": "2023-06-11T17:07:13.423590Z",
     "shell.execute_reply.started": "2023-06-11T17:07:12.135048Z"
    },
    "tags": []
   },
   "outputs": [
    {
     "data": {
      "application/vnd.jupyter.widget-view+json": {
       "model_id": "b9e18ed43ad1413ea8a0835a5f6e4d1c",
       "version_major": 2,
       "version_minor": 0
      },
      "text/plain": [
       "VBox()"
      ]
     },
     "metadata": {},
     "output_type": "display_data"
    },
    {
     "data": {
      "application/vnd.jupyter.widget-view+json": {
       "model_id": "",
       "version_major": 2,
       "version_minor": 0
      },
      "text/plain": [
       "FloatProgress(value=0.0, bar_style='info', description='Progress:', layout=Layout(height='25px', width='50%'),…"
      ]
     },
     "metadata": {},
     "output_type": "display_data"
    },
    {
     "name": "stdout",
     "output_type": "stream",
     "text": [
      "rddE_Distinct_Purchase: org.apache.spark.rdd.RDD[String] = MapPartitionsRDD[28] at distinct at <console>:25\n",
      "Numero di ordini distinti: 773214\n"
     ]
    }
   ],
   "source": [
    "//userSession\n",
    "val rddE_Distinct_Purchase = rddE_Purchase_Cache.map(x => x._7).distinct()\n",
    "println(\"Numero di ordini distinti: \"+rddE_Distinct_Purchase.count)"
   ]
  },
  {
   "cell_type": "markdown",
   "id": "d70affb9",
   "metadata": {},
   "source": [
    "## Numero di utenti distinti che hanno effettuato almeno 1 acquisto"
   ]
  },
  {
   "cell_type": "code",
   "execution_count": 16,
   "id": "bf677bf9",
   "metadata": {
    "execution": {
     "iopub.execute_input": "2023-06-11T17:07:37.469382Z",
     "iopub.status.busy": "2023-06-11T17:07:37.469075Z",
     "iopub.status.idle": "2023-06-11T17:07:38.237990Z",
     "shell.execute_reply": "2023-06-11T17:07:38.237139Z",
     "shell.execute_reply.started": "2023-06-11T17:07:37.469357Z"
    },
    "tags": []
   },
   "outputs": [
    {
     "data": {
      "application/vnd.jupyter.widget-view+json": {
       "model_id": "971810fe6c934e7d8b3d702fb0f6636a",
       "version_major": 2,
       "version_minor": 0
      },
      "text/plain": [
       "VBox()"
      ]
     },
     "metadata": {},
     "output_type": "display_data"
    },
    {
     "data": {
      "application/vnd.jupyter.widget-view+json": {
       "model_id": "",
       "version_major": 2,
       "version_minor": 0
      },
      "text/plain": [
       "FloatProgress(value=0.0, bar_style='info', description='Progress:', layout=Layout(height='25px', width='50%'),…"
      ]
     },
     "metadata": {},
     "output_type": "display_data"
    },
    {
     "name": "stdout",
     "output_type": "stream",
     "text": [
      "rddE_PurchasedByUser: org.apache.spark.rdd.RDD[Long] = MapPartitionsRDD[32] at distinct at <console>:25\n",
      "Numero di utenti distinti che hanno effettuato almeno 1 acquisto: 441638\n"
     ]
    }
   ],
   "source": [
    "//userId\n",
    "val rddE_PurchasedByUser = rddE_Purchase_Cache.map(x => x._6).distinct()\n",
    "println(\"Numero di utenti distinti che hanno effettuato almeno 1 acquisto: \"+rddE_PurchasedByUser.count)"
   ]
  },
  {
   "cell_type": "markdown",
   "id": "889b5089",
   "metadata": {},
   "source": [
    "## Numero di acquisti effettuati per utente"
   ]
  },
  {
   "cell_type": "code",
   "execution_count": 17,
   "id": "d134e7e4",
   "metadata": {
    "execution": {
     "iopub.execute_input": "2023-06-11T17:07:40.602981Z",
     "iopub.status.busy": "2023-06-11T17:07:40.602646Z",
     "iopub.status.idle": "2023-06-11T17:07:42.870664Z",
     "shell.execute_reply": "2023-06-11T17:07:42.869729Z",
     "shell.execute_reply.started": "2023-06-11T17:07:40.602953Z"
    },
    "tags": []
   },
   "outputs": [
    {
     "data": {
      "application/vnd.jupyter.widget-view+json": {
       "model_id": "03232f8cae274ad7a186c9653223d384",
       "version_major": 2,
       "version_minor": 0
      },
      "text/plain": [
       "VBox()"
      ]
     },
     "metadata": {},
     "output_type": "display_data"
    },
    {
     "data": {
      "application/vnd.jupyter.widget-view+json": {
       "model_id": "",
       "version_major": 2,
       "version_minor": 0
      },
      "text/plain": [
       "FloatProgress(value=0.0, bar_style='info', description='Progress:', layout=Layout(height='25px', width='50%'),…"
      ]
     },
     "metadata": {},
     "output_type": "display_data"
    },
    {
     "name": "stdout",
     "output_type": "stream",
     "text": [
      "rddE_Purchase_X_User: org.apache.spark.rdd.RDD[(Long, Int)] = ShuffledRDD[34] at aggregateByKey at <console>:25\n",
      "(564068124,519)\n",
      "(512386086,268)\n",
      "(549109608,222)\n",
      "(518514099,202)\n",
      "(549030056,190)\n",
      "(566448225,175)\n",
      "(538473314,163)\n",
      "(513230794,156)\n",
      "(543128872,156)\n",
      "(569181579,142)\n"
     ]
    }
   ],
   "source": [
    "//userId\n",
    "val rddE_Purchase_X_User = rddE_Purchase_Cache.map(x => (x._6, 1)).aggregateByKey(0)((a,v) => a+1, (a1, a2)=> a1+a2)\n",
    "rddE_Purchase_X_User.sortBy(_._2, false).collect().take(10).foreach(println(_))"
   ]
  },
  {
   "cell_type": "markdown",
   "id": "67577cfb",
   "metadata": {},
   "source": [
    "## Acquisti medi per utente"
   ]
  },
  {
   "cell_type": "code",
   "execution_count": 18,
   "id": "369f19cd",
   "metadata": {
    "execution": {
     "iopub.execute_input": "2023-06-11T17:07:45.881187Z",
     "iopub.status.busy": "2023-06-11T17:07:45.880874Z",
     "iopub.status.idle": "2023-06-11T17:07:47.147824Z",
     "shell.execute_reply": "2023-06-11T17:07:47.146741Z",
     "shell.execute_reply.started": "2023-06-11T17:07:45.881161Z"
    },
    "tags": []
   },
   "outputs": [
    {
     "data": {
      "application/vnd.jupyter.widget-view+json": {
       "model_id": "f06f11328e8247a6b0ccb2bafffca6fd",
       "version_major": 2,
       "version_minor": 0
      },
      "text/plain": [
       "VBox()"
      ]
     },
     "metadata": {},
     "output_type": "display_data"
    },
    {
     "data": {
      "application/vnd.jupyter.widget-view+json": {
       "model_id": "",
       "version_major": 2,
       "version_minor": 0
      },
      "text/plain": [
       "FloatProgress(value=0.0, bar_style='info', description='Progress:', layout=Layout(height='25px', width='50%'),…"
      ]
     },
     "metadata": {},
     "output_type": "display_data"
    },
    {
     "name": "stdout",
     "output_type": "stream",
     "text": [
      "numUser: Long = 441638\n",
      "numSales: Long = 916939\n",
      "Acquisti medi per utente: 2.076223060515626\n"
     ]
    }
   ],
   "source": [
    "//userId\n",
    "val numUser = rddE_Purchase_Cache.map(x => x._6).distinct.count\n",
    "val numSales = rddE_Purchase_Cache.count\n",
    "\n",
    "println(\"Acquisti medi per utente: \"+numSales.toDouble/numUser)"
   ]
  },
  {
   "cell_type": "markdown",
   "id": "392fc6e8",
   "metadata": {},
   "source": [
    "## Prezzi - *min*, *max* e *range* e relativa *categoria*"
   ]
  },
  {
   "cell_type": "code",
   "execution_count": 19,
   "id": "f5ff59be",
   "metadata": {
    "execution": {
     "iopub.execute_input": "2023-06-11T17:07:48.584629Z",
     "iopub.status.busy": "2023-06-11T17:07:48.584328Z",
     "iopub.status.idle": "2023-06-11T17:07:49.865143Z",
     "shell.execute_reply": "2023-06-11T17:07:49.864264Z",
     "shell.execute_reply.started": "2023-06-11T17:07:48.584604Z"
    },
    "tags": []
   },
   "outputs": [
    {
     "data": {
      "application/vnd.jupyter.widget-view+json": {
       "model_id": "5bfd2f87e4db46ff855ab0c53310d901",
       "version_major": 2,
       "version_minor": 0
      },
      "text/plain": [
       "VBox()"
      ]
     },
     "metadata": {},
     "output_type": "display_data"
    },
    {
     "data": {
      "application/vnd.jupyter.widget-view+json": {
       "model_id": "",
       "version_major": 2,
       "version_minor": 0
      },
      "text/plain": [
       "FloatProgress(value=0.0, bar_style='info', description='Progress:', layout=Layout(height='25px', width='50%'),…"
      ]
     },
     "metadata": {},
     "output_type": "display_data"
    },
    {
     "name": "stdout",
     "output_type": "stream",
     "text": [
      "rddE_Price: org.apache.spark.rdd.RDD[(String, Double)] = MapPartitionsRDD[45] at filter at <console>:25\n",
      "min_Product: (String, Double) = (electronics.audio.headphone,0.87)\n",
      "max_Product: (String, Double) = (electronics.clocks,2574.07)\n",
      "min_Price: Double = 0.87\n",
      "category_min: String = electronics.audio.headphone\n",
      "max_Price: Double = 2574.07\n",
      "category_max: String = electronics.clocks\n",
      "range: Double = 2573.2000000000003\n",
      "Prezzo minimo: 0.87, Categoria: electronics.audio.headphone\n",
      "Prezzo massimo: 2574.07, Categoria: electronics.clocks\n",
      "Range di prezzo: 2573.2000000000003\n"
     ]
    }
   ],
   "source": [
    "//categoryCode, price\n",
    "val rddE_Price = rddE_Purchase_Cache.map(x => (x._3, x._5)).filter({case(categoryCode, price) => categoryCode.nonEmpty && price > 0})\n",
    "\n",
    "val min_Product = rddE_Price.min()(Ordering.by(_._2))\n",
    "val max_Product = rddE_Price.max()(Ordering.by(_._2))\n",
    "\n",
    "val min_Price = min_Product._2.toDouble\n",
    "val category_min = min_Product._1\n",
    "\n",
    "val max_Price = max_Product._2.toDouble\n",
    "val category_max = max_Product._1\n",
    "\n",
    "val range = max_Price - min_Price\n",
    "\n",
    "println(\"Prezzo minimo: \" + min_Price + \", Categoria: \" + category_min)\n",
    "println(\"Prezzo massimo: \" + max_Price + \", Categoria: \" + category_max)\n",
    "println(\"Range di prezzo: \" + range)"
   ]
  },
  {
   "cell_type": "markdown",
   "id": "2b1e61ef",
   "metadata": {
    "tags": []
   },
   "source": [
    "## Prezzo medio dei prodotti venduti"
   ]
  },
  {
   "cell_type": "code",
   "execution_count": 20,
   "id": "4305dc3e",
   "metadata": {
    "execution": {
     "iopub.execute_input": "2023-06-11T17:07:52.818821Z",
     "iopub.status.busy": "2023-06-11T17:07:52.818511Z",
     "iopub.status.idle": "2023-06-11T17:07:53.581277Z",
     "shell.execute_reply": "2023-06-11T17:07:53.580506Z",
     "shell.execute_reply.started": "2023-06-11T17:07:52.818794Z"
    },
    "tags": []
   },
   "outputs": [
    {
     "data": {
      "application/vnd.jupyter.widget-view+json": {
       "model_id": "a3ca6f42b2b74f22b7adc66bb51bfe61",
       "version_major": 2,
       "version_minor": 0
      },
      "text/plain": [
       "VBox()"
      ]
     },
     "metadata": {},
     "output_type": "display_data"
    },
    {
     "data": {
      "application/vnd.jupyter.widget-view+json": {
       "model_id": "",
       "version_major": 2,
       "version_minor": 0
      },
      "text/plain": [
       "FloatProgress(value=0.0, bar_style='info', description='Progress:', layout=Layout(height='25px', width='50%'),…"
      ]
     },
     "metadata": {},
     "output_type": "display_data"
    },
    {
     "name": "stdout",
     "output_type": "stream",
     "text": [
      "itemSold: (Double, Int) = (2.751948905000006E8,916939)\n",
      "avgPrice: Double = 300.1234438714032\n",
      "Il prezzo medio dei prodotti venduti e': 300.1234438714032\n"
     ]
    }
   ],
   "source": [
    "//price\n",
    "val itemSold = rddE_Purchase_Cache.map(x => x._5).aggregate((0.0,0))((acc, price)=>(acc._1+price,acc._2+1),(acc1, acc2)=>(acc1._1+acc2._1,acc1._2+acc2._2))\n",
    "val avgPrice = itemSold._1 / itemSold._2.toDouble\n",
    "println(\"Il prezzo medio dei prodotti venduti e': \"+avgPrice)"
   ]
  },
  {
   "cell_type": "markdown",
   "id": "fade39e5",
   "metadata": {},
   "source": [
    "## Spese media per le sessioni in cui si sono acquistati prodotti "
   ]
  },
  {
   "cell_type": "code",
   "execution_count": 21,
   "id": "06f73b2a",
   "metadata": {
    "execution": {
     "iopub.execute_input": "2023-06-11T17:07:56.047518Z",
     "iopub.status.busy": "2023-06-11T17:07:56.047215Z",
     "iopub.status.idle": "2023-06-11T17:07:58.324487Z",
     "shell.execute_reply": "2023-06-11T17:07:58.323642Z",
     "shell.execute_reply.started": "2023-06-11T17:07:56.047494Z"
    },
    "tags": []
   },
   "outputs": [
    {
     "data": {
      "application/vnd.jupyter.widget-view+json": {
       "model_id": "d45dd1d458804090b896bfdf32b03512",
       "version_major": 2,
       "version_minor": 0
      },
      "text/plain": [
       "VBox()"
      ]
     },
     "metadata": {},
     "output_type": "display_data"
    },
    {
     "data": {
      "application/vnd.jupyter.widget-view+json": {
       "model_id": "",
       "version_major": 2,
       "version_minor": 0
      },
      "text/plain": [
       "FloatProgress(value=0.0, bar_style='info', description='Progress:', layout=Layout(height='25px', width='50%'),…"
      ]
     },
     "metadata": {},
     "output_type": "display_data"
    },
    {
     "name": "stdout",
     "output_type": "stream",
     "text": [
      "rdd_avgSessionExpense: org.apache.spark.rdd.RDD[(String, Double)] = MapPartitionsRDD[49] at map at <console>:25\n",
      "(ce9bfd7c-619b-4761-a8e0-13895d85c4e0,2574.07)\n",
      "(a2336ead-8ed4-49a3-9cb8-64870c320c4e,2574.07)\n",
      "(a19f78fd-04ef-42dd-ba67-1d89315b6f2e,2574.07)\n",
      "(2a2cb0d4-0c17-44c1-b91d-0194d3f5a373,2574.07)\n",
      "(4cc4a3b8-9b87-4563-a09d-84e7d7688722,2574.04)\n",
      "(9b3d6b9e-91df-41e7-9b6c-e19dd20a5217,2574.04)\n",
      "(f3b2be78-853e-4627-9540-8a1a02ff6bdd,2574.04)\n",
      "(84a22b50-43a5-418b-8f7b-4d10d0971960,2574.04)\n",
      "(666a88f5-8962-4acc-a702-f6e9624044a7,2574.04)\n",
      "(aadbf6ce-d278-42c6-920f-09c5f2eedbe7,2574.04)\n"
     ]
    }
   ],
   "source": [
    "//userSession, price\n",
    "val rdd_avgSessionExpense = rddE_Purchase_Cache.map(x => (x._7, x._5)).aggregateByKey((0.0,0))((a,v)=>(a._1+v, a._2+1),(a1,a2)=>(a1._1+a2._1,a1._2+a2._2)).map(x => (x._1, (x._2._1/x._2._2)))\n",
    "//val avgSessionExpense = sessionExpenseTotal.mapValues({case (total, count) => total/count})\n",
    "\n",
    "rdd_avgSessionExpense.sortBy(_._2, false).collect().take(10).foreach(println(_))"
   ]
  },
  {
   "cell_type": "markdown",
   "id": "8006af3f",
   "metadata": {},
   "source": [
    "## Vendite per brand"
   ]
  },
  {
   "cell_type": "code",
   "execution_count": 22,
   "id": "5af83a6f",
   "metadata": {
    "execution": {
     "iopub.execute_input": "2023-06-11T17:08:01.511647Z",
     "iopub.status.busy": "2023-06-11T17:08:01.511341Z",
     "iopub.status.idle": "2023-06-11T17:08:02.331872Z",
     "shell.execute_reply": "2023-06-11T17:08:02.331001Z",
     "shell.execute_reply.started": "2023-06-11T17:08:01.511621Z"
    },
    "tags": []
   },
   "outputs": [
    {
     "data": {
      "application/vnd.jupyter.widget-view+json": {
       "model_id": "dd8ae8ec0b5543fd8e18023b7845a9d1",
       "version_major": 2,
       "version_minor": 0
      },
      "text/plain": [
       "VBox()"
      ]
     },
     "metadata": {},
     "output_type": "display_data"
    },
    {
     "data": {
      "application/vnd.jupyter.widget-view+json": {
       "model_id": "",
       "version_major": 2,
       "version_minor": 0
      },
      "text/plain": [
       "FloatProgress(value=0.0, bar_style='info', description='Progress:', layout=Layout(height='25px', width='50%'),…"
      ]
     },
     "metadata": {},
     "output_type": "display_data"
    },
    {
     "name": "stdout",
     "output_type": "stream",
     "text": [
      "rdd_Brand_Sales: org.apache.spark.rdd.RDD[(String, Int)] = ShuffledRDD[57] at aggregateByKey at <console>:25\n",
      "(samsung,200027)\n",
      "(apple,166064)\n",
      "(xiaomi,68292)\n",
      "(huawei,23703)\n",
      "(cordiant,16983)\n",
      "(oppo,15080)\n",
      "(lucente,14559)\n",
      "(lg,12879)\n",
      "(sony,10309)\n",
      "(artel,9267)\n"
     ]
    }
   ],
   "source": [
    "//brand\n",
    "val rdd_Brand_Sales = rddE_Purchase_Cache.map(x=>(x._4, 1)).filter(x => x._1.nonEmpty).aggregateByKey(0)((a,v) => a+1, (a1, a2)=> a1+a2)\n",
    "rdd_Brand_Sales.sortBy(_._2, false).collect().take(10).foreach(println(_))"
   ]
  },
  {
   "cell_type": "markdown",
   "id": "6a88cb90",
   "metadata": {},
   "source": [
    "## Incasso per Brand con relativo numero di vendite"
   ]
  },
  {
   "cell_type": "code",
   "execution_count": 23,
   "id": "77059bf6",
   "metadata": {
    "execution": {
     "iopub.execute_input": "2023-06-11T17:08:05.042861Z",
     "iopub.status.busy": "2023-06-11T17:08:05.042539Z",
     "iopub.status.idle": "2023-06-11T17:08:05.815279Z",
     "shell.execute_reply": "2023-06-11T17:08:05.814457Z",
     "shell.execute_reply.started": "2023-06-11T17:08:05.042834Z"
    },
    "tags": []
   },
   "outputs": [
    {
     "data": {
      "application/vnd.jupyter.widget-view+json": {
       "model_id": "f29a21ffd1d14a89b8d8ed0fae7e8882",
       "version_major": 2,
       "version_minor": 0
      },
      "text/plain": [
       "VBox()"
      ]
     },
     "metadata": {},
     "output_type": "display_data"
    },
    {
     "data": {
      "application/vnd.jupyter.widget-view+json": {
       "model_id": "",
       "version_major": 2,
       "version_minor": 0
      },
      "text/plain": [
       "FloatProgress(value=0.0, bar_style='info', description='Progress:', layout=Layout(height='25px', width='50%'),…"
      ]
     },
     "metadata": {},
     "output_type": "display_data"
    },
    {
     "name": "stdout",
     "output_type": "stream",
     "text": [
      "rdd_Revenue: org.apache.spark.rdd.RDD[(String, (Double, Int))] = ShuffledRDD[65] at aggregateByKey at <console>:25\n",
      "(apple,1.2751252488000032E8,166064)\n",
      "(samsung,5.4869880869999856E7,200027)\n",
      "(xiaomi,1.1259865960000014E7,68292)\n",
      "(lg,5239018.76,12879)\n",
      "(huawei,4780682.349999998,23703)\n",
      "(sony,3862886.3000000017,10309)\n",
      "(lucente,3527545.5700000003,14559)\n",
      "(oppo,3488540.7599999965,15080)\n",
      "(acer,3347306.5300000007,6402)\n",
      "(lenovo,2698106.3,6547)\n"
     ]
    }
   ],
   "source": [
    "//brand, price\n",
    "val rdd_Revenue = rddE_Purchase_Cache.map(x=>(x._4, x._5)).filter(x => x._1.nonEmpty).aggregateByKey((0.0,0))((a,v)=>(a._1+v,a._2+1), (a1,a2)=>(a1._1+a2._1,a1._2+a2._2))\n",
    "rdd_Revenue.map(x => (x._1, x._2._1, x._2._2)).sortBy(_._2, false).collect().take(10).foreach(println(_))"
   ]
  },
  {
   "cell_type": "markdown",
   "id": "59669e8f",
   "metadata": {},
   "source": [
    "## Query Complesse"
   ]
  },
  {
   "cell_type": "markdown",
   "id": "69f8fd11",
   "metadata": {},
   "source": [
    "Al fine di garantire una migliore tracciabilità e analisi dei risultati ottenuti, si è deciso di adottare una strategia di salvataggio dei risultati delle query complesse in formato `CSV`. A tal fine, verranno create specifiche directory per ospitare i file CSV, secondo le definizioni che seguono."
   ]
  },
  {
   "cell_type": "code",
   "execution_count": 24,
   "id": "964fc648",
   "metadata": {
    "execution": {
     "iopub.execute_input": "2023-06-11T17:08:10.155482Z",
     "iopub.status.busy": "2023-06-11T17:08:10.155079Z",
     "iopub.status.idle": "2023-06-11T17:08:10.948103Z",
     "shell.execute_reply": "2023-06-11T17:08:10.947083Z",
     "shell.execute_reply.started": "2023-06-11T17:08:10.155445Z"
    },
    "tags": []
   },
   "outputs": [
    {
     "data": {
      "application/vnd.jupyter.widget-view+json": {
       "model_id": "c62e5140759d42be89dc14df89e22399",
       "version_major": 2,
       "version_minor": 0
      },
      "text/plain": [
       "VBox()"
      ]
     },
     "metadata": {},
     "output_type": "display_data"
    },
    {
     "data": {
      "application/vnd.jupyter.widget-view+json": {
       "model_id": "",
       "version_major": 2,
       "version_minor": 0
      },
      "text/plain": [
       "FloatProgress(value=0.0, bar_style='info', description='Progress:', layout=Layout(height='25px', width='50%'),…"
      ]
     },
     "metadata": {},
     "output_type": "display_data"
    },
    {
     "name": "stdout",
     "output_type": "stream",
     "text": [
      "path_VCP_Products: String = s3a://unibo-bd2223-mmongardi/spark/project/VCP_Products\n",
      "path_BrandClassification: String = s3a://unibo-bd2223-mmongardi/spark/project/BrandClassification\n",
      "path_ComplexQuery01_01: String = s3a://unibo-bd2223-mmongardi/spark/project/path_ComplexQuery/01/01\n",
      "path_ComplexQuery01_02: String = s3a://unibo-bd2223-mmongardi/spark/project/path_ComplexQuery/01/02\n",
      "path_ComplexQuery02_01: String = s3a://unibo-bd2223-mmongardi/spark/project/path_ComplexQuery/02/01\n",
      "path_ComplexQuery02_02: String = s3a://unibo-bd2223-mmongardi/spark/project/path_ComplexQuery/02/02\n",
      "path_ComplexQuery03_01: String = s3a://unibo-bd2223-mmongardi/spark/project/path_ComplexQuery/03/01\n",
      "path_ComplexQuery03_02: String = s3a://unibo-bd2223-mmongardi/spark/project/path_ComplexQuery/03/02\n"
     ]
    }
   ],
   "source": [
    "val path_VCP_Products = \"s3a://\"+bucketname+\"/spark/project/VCP_Products\"\n",
    "val path_BrandClassification = \"s3a://\"+bucketname+\"/spark/project/BrandClassification\"\n",
    "val path_ComplexQuery01_01 = \"s3a://\"+bucketname+\"/spark/project/path_ComplexQuery/01/01\"\n",
    "val path_ComplexQuery01_02 = \"s3a://\"+bucketname+\"/spark/project/path_ComplexQuery/01/02\"\n",
    "val path_ComplexQuery02_01= \"s3a://\"+bucketname+\"/spark/project/path_ComplexQuery/02/01\"\n",
    "val path_ComplexQuery02_02 = \"s3a://\"+bucketname+\"/spark/project/path_ComplexQuery/02/02\"\n",
    "val path_ComplexQuery03_01= \"s3a://\"+bucketname+\"/spark/project/path_ComplexQuery/03/01\"\n",
    "val path_ComplexQuery03_02 = \"s3a://\"+bucketname+\"/spark/project/path_ComplexQuery/03/02\""
   ]
  },
  {
   "cell_type": "markdown",
   "id": "f18f23eb",
   "metadata": {},
   "source": [
    "### Eventi `view`, `cart`, `purchase` per prodotto"
   ]
  },
  {
   "cell_type": "code",
   "execution_count": 25,
   "id": "5252260a",
   "metadata": {
    "execution": {
     "iopub.execute_input": "2023-06-11T17:08:26.352369Z",
     "iopub.status.busy": "2023-06-11T17:08:26.352056Z",
     "iopub.status.idle": "2023-06-11T17:08:57.735158Z",
     "shell.execute_reply": "2023-06-11T17:08:57.734357Z",
     "shell.execute_reply.started": "2023-06-11T17:08:26.352342Z"
    },
    "tags": []
   },
   "outputs": [
    {
     "data": {
      "application/vnd.jupyter.widget-view+json": {
       "model_id": "9189f351d24c4bdfb4829985c17bcc6b",
       "version_major": 2,
       "version_minor": 0
      },
      "text/plain": [
       "VBox()"
      ]
     },
     "metadata": {},
     "output_type": "display_data"
    },
    {
     "data": {
      "application/vnd.jupyter.widget-view+json": {
       "model_id": "",
       "version_major": 2,
       "version_minor": 0
      },
      "text/plain": [
       "FloatProgress(value=0.0, bar_style='info', description='Progress:', layout=Layout(height='25px', width='50%'),…"
      ]
     },
     "metadata": {},
     "output_type": "display_data"
    },
    {
     "name": "stdout",
     "output_type": "stream",
     "text": [
      "rddE_Partitioned: org.apache.spark.rdd.RDD[EcommerceEventParser.Event] = CoalescedRDD[75] at coalesce at <console>:26\n",
      "rddEvents: org.apache.spark.rdd.RDD[(Long, String, String, String, Double)] = MapPartitionsRDD[76] at map at <console>:24\n",
      "res51: Long = 67501969\n"
     ]
    }
   ],
   "source": [
    "sc.getPersistentRDDs.foreach{case (k,v) => v.unpersist()}\n",
    "val rddE_Partitioned =  sc.textFile(path_events_ecommerce).flatMap(EcommerceEventParser.parse).coalesce(60)\n",
    "val rddEvents = rddE_Partitioned.map(x => (x.productId, x.mode, x.categoryCode, x.brand, x.price)).cache\n",
    "rddEvents.count"
   ]
  },
  {
   "cell_type": "code",
   "execution_count": 28,
   "id": "2ec0a215-9303-459c-9edf-b7965265fa9c",
   "metadata": {
    "execution": {
     "iopub.execute_input": "2023-06-11T17:10:11.644040Z",
     "iopub.status.busy": "2023-06-11T17:10:11.643738Z",
     "iopub.status.idle": "2023-06-11T17:10:16.964516Z",
     "shell.execute_reply": "2023-06-11T17:10:16.963711Z",
     "shell.execute_reply.started": "2023-06-11T17:10:11.644016Z"
    },
    "tags": []
   },
   "outputs": [
    {
     "data": {
      "application/vnd.jupyter.widget-view+json": {
       "model_id": "9fef1fa2ce7840fba488679c1e20927e",
       "version_major": 2,
       "version_minor": 0
      },
      "text/plain": [
       "VBox()"
      ]
     },
     "metadata": {},
     "output_type": "display_data"
    },
    {
     "data": {
      "application/vnd.jupyter.widget-view+json": {
       "model_id": "",
       "version_major": 2,
       "version_minor": 0
      },
      "text/plain": [
       "FloatProgress(value=0.0, bar_style='info', description='Progress:', layout=Layout(height='25px', width='50%'),…"
      ]
     },
     "metadata": {},
     "output_type": "display_data"
    },
    {
     "name": "stdout",
     "output_type": "stream",
     "text": [
      "(1000365,1,0,0)\n",
      "(1000978,7260,60,20)\n",
      "(1001588,1715,16,6)\n",
      "(1001606,15,0,0)\n",
      "(1001618,1499,69,36)\n",
      "(1001619,121,1,1)\n",
      "(1001894,1,0,0)\n",
      "(1002042,66,0,0)\n",
      "(1002062,3235,46,6)\n",
      "(1002098,6598,91,26)\n",
      "metrics: Unit = ()\n"
     ]
    }
   ],
   "source": [
    "//productId, mode\n",
    "val metrics = rddEvents.map(x => (x._1, x._2 match {\n",
    "              case \"view\" => (1, 0, 0)\n",
    "              case \"cart\" => (0, 1, 0)\n",
    "              case \"purchase\" => (0, 0, 1)\n",
    "            })).reduceByKey((x, y) => (x._1 + y._1, x._2 + y._2, x._3 + y._3)).\n",
    "            map(x => (x._1, x._2._1, x._2._2, x._2._3)).\n",
    "            sortBy(productId => productId).collect().take(10).foreach(println(_))\n",
    "            //coalesce(1).toDF().write.format(\"csv\").mode(SaveMode.Overwrite).save(path_VCP_Products)"
   ]
  },
  {
   "cell_type": "markdown",
   "id": "5116bb8f",
   "metadata": {},
   "source": [
    "### \"Valore\" totale per Brand"
   ]
  },
  {
   "cell_type": "markdown",
   "id": "2107948d",
   "metadata": {},
   "source": [
    "In questa *query* si sta cercando di trovare la somma dei prezzi relativa ad ogni brand, considerando tutte le interazioni degli utenti sull'ecommerce, indipendentemente dal tipo di interazione (view, cart o purchase). Si sta quindi conducendo un'analisi sul valore totale dei prodotti interagiti per brand. Questa metrica rappresenta una misura complessiva del valore monetario associato al brand e alle interazioni degli utenti con i prodotti del brand sull'ecommerce. È importante sottolineare che questa metrica non rappresenta il ricavato che ogni brand ha incassato, poiché non tiene conto solo delle vendite effettive, ma considera anche le visualizzazioni e gli inserimenti dei prodotti nel carrello. Tuttavia, fornisce comunque un'indicazione del coinvolgimento e dell'interesse degli utenti verso i prodotti di un determinato brand."
   ]
  },
  {
   "cell_type": "code",
   "execution_count": 27,
   "id": "dc06fd8b",
   "metadata": {
    "execution": {
     "iopub.execute_input": "2023-06-11T17:09:23.345000Z",
     "iopub.status.busy": "2023-06-11T17:09:23.344688Z",
     "iopub.status.idle": "2023-06-11T17:10:08.759429Z",
     "shell.execute_reply": "2023-06-11T17:10:08.758574Z",
     "shell.execute_reply.started": "2023-06-11T17:09:23.344972Z"
    },
    "tags": []
   },
   "outputs": [
    {
     "data": {
      "application/vnd.jupyter.widget-view+json": {
       "model_id": "bc30e4a6992f4a31adbb7be9fee03497",
       "version_major": 2,
       "version_minor": 0
      },
      "text/plain": [
       "VBox()"
      ]
     },
     "metadata": {},
     "output_type": "display_data"
    },
    {
     "data": {
      "application/vnd.jupyter.widget-view+json": {
       "model_id": "",
       "version_major": 2,
       "version_minor": 0
      },
      "text/plain": [
       "FloatProgress(value=0.0, bar_style='info', description='Progress:', layout=Layout(height='25px', width='50%'),…"
      ]
     },
     "metadata": {},
     "output_type": "display_data"
    },
    {
     "name": "stdout",
     "output_type": "stream",
     "text": [
      "(apple,5.171550206519732E9)\n",
      "(samsung,2.8094897419798064E9)\n",
      "(xiaomi,9.450350431300377E8)\n",
      "(lg,5.1614301536000896E8)\n",
      "(acer,4.38923375619997E8)\n",
      "(lenovo,4.0750582587000674E8)\n",
      "(huawei,3.7222788205000347E8)\n",
      "(sony,3.5280309000999075E8)\n",
      "(asus,2.915951945999978E8)\n",
      "(lucente,2.864294579200025E8)\n",
      "totalValue: Unit = ()\n"
     ]
    }
   ],
   "source": [
    "//brand, price\n",
    "val totalValue = rddEvents.map(x=>(x._4, x._5)).filter({case(brand, price)=>brand.nonEmpty && price > 0}).reduceByKey(_+_).sortBy(_._2, false).collect().take(10).foreach(println(_))"
   ]
  },
  {
   "cell_type": "markdown",
   "id": "a1e3cd52",
   "metadata": {},
   "source": [
    "#### Top 10 Brand con maggior valore"
   ]
  },
  {
   "cell_type": "markdown",
   "id": "7ad8eb21",
   "metadata": {},
   "source": [
    "### Classificazione dei Brand sulla base del loro Valore\n",
    "\n",
    "Una volta individuato il valore totale dei prodotti interagiti per brand, è stato sviluppato un criterio di classificazione basato sul valore per assegnare una categoria a ciascun brand. Nello specifico, è stato deciso di utilizzare la media dei prezzi dei prodotti interagiti come base per la classificazione. Di seguito si riportano i dettagli della logica adottata:\n",
    "\n",
    "- I brand con una media dei prezzi superiore a 700 sono stati classificati come `High-end brad`, rappresentando marchi di fascia alta.\n",
    "- I brand con una media dei prezzi compresa tra 700 e 500 sono stati classificati come `Mid-range brad`, corrispondendo a marchi di fascia media.\n",
    "- I brand con una media dei prezzi compresa tra 500 e 300 sono stati classificati come `Affordable brad`, rientrando nella fascia medio-bassa.\n",
    "- I brand con una media dei prezzi inferiore a 300 sono stati classificati come `Budget brand`, appartenendo alla fascia bassa del mercato.\n",
    "\n",
    "Questa classifica deriva dall'ideologia consolidata e conosciuta che riguarda la percezione del marchio e il suo posizionamento all'interno delle diverse fasce di mercato.\n",
    "\n",
    "- High-end brand: Questi brand rappresentano il segmento di fascia alta, offrendo prodotti di lusso e alta qualità che spesso sono associati a prezzi elevati.\n",
    "- Mid-range brand: Questi marchi si collocano a metà strada tra i brand di fascia alta e quelli più accessibili. Offrono prodotti di qualità decente a prezzi più accessibili rispetto ai brand di fascia alta.\n",
    "- Affordable brand: Questi brand si concentrano sull'offerta di prodotti di buona qualità a prezzi ragionevoli. Sono più accessibili rispetto ai brand di fascia alta e mid-range.\n",
    "- Budget brand: Questi marchi si concentrano principalmente sull'offerta di prodotti a basso costo. L'obiettivo principale è fornire prodotti economici, anche se a volte la qualità potrebbe essere inferiore rispetto ai marchi di fascia alta, mid-range e affordable."
   ]
  },
  {
   "cell_type": "code",
   "execution_count": 29,
   "id": "adefeaac",
   "metadata": {
    "execution": {
     "iopub.execute_input": "2023-06-11T17:10:45.395721Z",
     "iopub.status.busy": "2023-06-11T17:10:45.395415Z",
     "iopub.status.idle": "2023-06-11T17:10:48.670955Z",
     "shell.execute_reply": "2023-06-11T17:10:48.670134Z",
     "shell.execute_reply.started": "2023-06-11T17:10:45.395695Z"
    },
    "tags": []
   },
   "outputs": [
    {
     "data": {
      "application/vnd.jupyter.widget-view+json": {
       "model_id": "fa0ce7eb10ce4a3f94a710633c0b566f",
       "version_major": 2,
       "version_minor": 0
      },
      "text/plain": [
       "VBox()"
      ]
     },
     "metadata": {},
     "output_type": "display_data"
    },
    {
     "data": {
      "application/vnd.jupyter.widget-view+json": {
       "model_id": "",
       "version_major": 2,
       "version_minor": 0
      },
      "text/plain": [
       "FloatProgress(value=0.0, bar_style='info', description='Progress:', layout=Layout(height='25px', width='50%'),…"
      ]
     },
     "metadata": {},
     "output_type": "display_data"
    },
    {
     "name": "stdout",
     "output_type": "stream",
     "text": [
      "brandClassification: org.apache.spark.rdd.RDD[(String, String)] = MapPartitionsRDD[103] at map at <console>:27\n",
      "res58: Long = 370\n",
      "res59: Long = 336\n",
      "res60: Long = 979\n",
      "res61: Long = 2516\n"
     ]
    }
   ],
   "source": [
    "val brandClassification = rddEvents.map(x => (x._4, x._5)).filter({case (brand, price) => brand.nonEmpty && price > 0}).\n",
    "    aggregateByKey((0.0,0))((acc, price)=>(acc._1+price,acc._2+1),(acc1, acc2)=>(acc1._1+acc2._1,acc1._2+acc2._2)).\n",
    "    map(x => (x._1, x._2._1/x._2._2)).\n",
    "    map(x => (x._1, x._2 match {\n",
    "    case p if p >= 500 => \"High-end brand\"\n",
    "    case p if p >= 300 && p < 500 => \"Mid-range brand\"\n",
    "    case p if p >= 100 && p < 300 =>\"Affordable brand\"\n",
    "    case _ => \"Budget brand\"\n",
    "  }))\n",
    "\n",
    "//brandClassification.filter(x=>x._2==\"High-end brand\").count()\n",
    "//brandClassification.filter(x=>x._2==\"Mid-range brand\").count()\n",
    "//brandClassification.filter(x=>x._2==\"Affordable brand\").count()\n",
    "//brandClassification.filter(x=>x._2==\"Budget brand\").count()"
   ]
  },
  {
   "cell_type": "code",
   "execution_count": 11,
   "id": "c67c55f7",
   "metadata": {
    "execution": {
     "iopub.execute_input": "2023-06-11T13:18:49.778992Z",
     "iopub.status.busy": "2023-06-11T13:18:49.778516Z",
     "iopub.status.idle": "2023-06-11T13:18:53.059639Z",
     "shell.execute_reply": "2023-06-11T13:18:53.058900Z",
     "shell.execute_reply.started": "2023-06-11T13:18:49.778948Z"
    },
    "tags": []
   },
   "outputs": [
    {
     "data": {
      "application/vnd.jupyter.widget-view+json": {
       "model_id": "e8940720db86434eab03953ae10854fe",
       "version_major": 2,
       "version_minor": 0
      },
      "text/plain": [
       "VBox()"
      ]
     },
     "metadata": {},
     "output_type": "display_data"
    },
    {
     "data": {
      "application/vnd.jupyter.widget-view+json": {
       "model_id": "",
       "version_major": 2,
       "version_minor": 0
      },
      "text/plain": [
       "FloatProgress(value=0.0, bar_style='info', description='Progress:', layout=Layout(height='25px', width='50%'),…"
      ]
     },
     "metadata": {},
     "output_type": "display_data"
    }
   ],
   "source": [
    "brandClassification.coalesce(1).toDF().write.format(\"csv\").mode(SaveMode.Overwrite).save(path_BrandClassification)"
   ]
  },
  {
   "cell_type": "markdown",
   "id": "c4bdd00c",
   "metadata": {},
   "source": [
    "Alla luce delle analisi effettuate, si intende acquisire informazioni rilevanti riguardanti le relazioni tra le **categorie di prodotti** e la **distribuzione dei brand**, basandosi sulla precedente classificazione.\n",
    "Si crede che la ricerca di queste informazioni sia un'analisi di grande rilevanza e interesse per diverse motivazioni. Esplorare la distribuzione dei brand all'interno delle diverse categorie di prodotti permette di identificare importanti tendenze di mercato. Ad esempio, potrebbe emergere che alcuni brand sono particolarmente popolari in determinate categorie, mentre altri hanno un appeal maggiore in altre. Un altro aspetto interessante di questa analisi è la valutazione dell'efficacia delle strategie di branding adottate dai brand. Esaminando la relazione tra le categorie di prodotti e la distribuzione dei brand, è possibile valutare se le strategie di branding messe in atto hanno avuto successo nel creare una forte associazione tra il brand e una specifica categoria di prodotti. A tal fine, si è deciso di testare diversi flussi di lavoro per condurre l'analisi sopracitata. In particolare, si vogliono recuperare le informazioni sul valore totale generato dai prodotti di una determinata categoria *(categoryCode, brandClassification)* e brand, insieme al numero di eventi su cui è basato il calcolo. Può essere utile per comprendere la performance economica di una specifica combinazione di categoria e brand, nonché l'intensità dell'interazione degli utenti con i prodotti correlati."
   ]
  },
  {
   "cell_type": "markdown",
   "id": "a309747d",
   "metadata": {},
   "source": [
    "### Primo flusso di lavoro - Join tra i due RDD"
   ]
  },
  {
   "cell_type": "code",
   "execution_count": 30,
   "id": "a3906668",
   "metadata": {
    "execution": {
     "iopub.execute_input": "2023-06-11T17:11:35.424147Z",
     "iopub.status.busy": "2023-06-11T17:11:35.423829Z",
     "iopub.status.idle": "2023-06-11T17:12:12.820978Z",
     "shell.execute_reply": "2023-06-11T17:12:12.820092Z",
     "shell.execute_reply.started": "2023-06-11T17:11:35.424119Z"
    },
    "tags": []
   },
   "outputs": [
    {
     "data": {
      "application/vnd.jupyter.widget-view+json": {
       "model_id": "9b1bafded76247b78199b2f1c5273734",
       "version_major": 2,
       "version_minor": 0
      },
      "text/plain": [
       "VBox()"
      ]
     },
     "metadata": {},
     "output_type": "display_data"
    },
    {
     "data": {
      "application/vnd.jupyter.widget-view+json": {
       "model_id": "",
       "version_major": 2,
       "version_minor": 0
      },
      "text/plain": [
       "FloatProgress(value=0.0, bar_style='info', description='Progress:', layout=Layout(height='25px', width='50%'),…"
      ]
     },
     "metadata": {},
     "output_type": "display_data"
    },
    {
     "name": "stdout",
     "output_type": "stream",
     "text": [
      "rddValueByBrand: Array[(String, String, String, Double, Int)] = Array((alarm,Budget brand,cenmax,684583.3700000213,9695), (headphone,Affordable brand,honor,88525.25999999983,649), (player,Budget brand,mystery,28561.699999999695,634), (tv,Affordable brand,kivi,2.317747378001211E7,84220), (\"\",Affordable brand,karcher,1.1596822289999379E7,38140), (carriage,Affordable brand,skillmax,268549.98000000237,995), (\"\",Budget brand,suda,25.259999999999998,3), (electronics,Affordable brand,hifiman,4447.990000000001,25), (microphone,Budget brand,hyperx,4627.819999999987,202), (kids,Budget brand,mefferts,117.64000000000001,17), (apparel,Budget brand,catimini,4167.22,67), (music_tools,Budget brand,akai,342400.67000000144,3615), (pillow,Affordable brand,vegas,227393.3600000001,4438), (components,Budget ...\n"
     ]
    }
   ],
   "source": [
    "//brand, categoryCode, price\n",
    "val rddValueByBrand = rddEvents.map(x => (x._4, (x._3, x._5))).\n",
    "                         join(brandClassification).// (brand,((categoryCode, price),(category)))\n",
    "                         flatMap(x=> x._2._1._1.split('.'). // (brand,((categoryCode_main, categoryCode.sub, price),(category)))\n",
    "                         map(y => ((y, x._2._2, x._1), x._2._1._2))). //((categoryCode, category, brand), price)\n",
    "                         aggregateByKey((0.0,0))((agg, v) => (agg._1 + v, agg._2 + 1),((agg1,agg2) => (agg1._1 + agg2._1, agg1._2 + agg2._2))). //((categoryCode, category, brand), value, count)\n",
    "                         map(x => (x._1._1, x._1._2, x._1._3, x._2._1, x._2._2)). //categoryCode, category, brand, value, count\n",
    "                         collect()\n",
    "                         //coalesce(1).toDF().write.format(\"csv\").mode(SaveMode.Overwrite).save(path_ComplexQuery01_01)"
   ]
  },
  {
   "cell_type": "markdown",
   "id": "23771d5b",
   "metadata": {},
   "source": [
    "### Tempi di esecuzione"
   ]
  },
  {
   "cell_type": "markdown",
   "id": "0a092f1a-b2b1-4b64-85b6-fae7a3e6364c",
   "metadata": {},
   "source": [
    "![job_1workflow.PNG](images/job_1workflow.PNG)\n",
    "![job_1workflow_dag.PNG](images/job_1workflow_dag.PNG)"
   ]
  },
  {
   "cell_type": "markdown",
   "id": "79b76987",
   "metadata": {},
   "source": [
    "Dai risultati osservati, emerge che il presente flusso di lavoro non manifesta prestazioni ottimali. Ciò può essere attribuito alla scelta di eseguire un'operazione di Join come prima operazione, la quale ha provocato un aumento del volume complessivo dei dati da elaborare. In questo contesto, sarebbe stato più ragionevole eseguire l'operazione di Join successivamente ad un'operazione di *aggregazione*, che consente di **ridurre** il numero di dati da manipolare. Anche una semplice operazione di filter, effettuata prima dell'operazione di Join, può migliorare significativamente le prestazioni. In generale, è consigliabile posticipare il più possibile l'operazione di Join per ottenere prestazioni ottimizzate, in modo da ridurre i dati che devono essere ridistribuiti tra le varie partizioni a seguito di questa operazione. Il **tempo di esecuzione medio** per questo job corrisponde a **37 secondi**.  "
   ]
  },
  {
   "cell_type": "markdown",
   "id": "aee129e3",
   "metadata": {},
   "source": [
    "### Secondo flusso di lavoro - Utilizzo di una variabile Broadcast"
   ]
  },
  {
   "cell_type": "markdown",
   "id": "1cdef442",
   "metadata": {},
   "source": [
    "In Apache Spark, una variabile broadcast è un meccanismo per condividere in modo efficiente dati immutabili tra i nodi di un cluster, in particolare essa viene condivisa in **sola lettura** da tutti gli executor. Essa consente di distribuire in modo ottimizzato un'intera variabile a tutti i nodi senza doverla serializzare e trasferire ripetutamente su ogni nodo, evitando quindi di effettuare l'operazione di Join che, come è noto, è molto costosa.\n",
    "La variabile broadcast è utile quando si ha a che fare con una grande mole di dati in quanto consente di evitare il trasferimento ripetuto dei dati sulla rete e di ridurre l'overhead di comunicazione tra i nodi, migliorando le prestazioni complessive dell'applicazione. Per tali ragioni, il seguente flusso di lavoro rappresenta un'alternativa migliore rispetto a quello precedente."
   ]
  },
  {
   "cell_type": "code",
   "execution_count": 31,
   "id": "32e7f866",
   "metadata": {
    "execution": {
     "iopub.execute_input": "2023-06-11T17:15:53.649696Z",
     "iopub.status.busy": "2023-06-11T17:15:53.649394Z",
     "iopub.status.idle": "2023-06-11T17:15:54.412241Z",
     "shell.execute_reply": "2023-06-11T17:15:54.411403Z",
     "shell.execute_reply.started": "2023-06-11T17:15:53.649671Z"
    },
    "tags": []
   },
   "outputs": [
    {
     "data": {
      "application/vnd.jupyter.widget-view+json": {
       "model_id": "ef6c9e9ad26742b9af2080bd9e70a3a6",
       "version_major": 2,
       "version_minor": 0
      },
      "text/plain": [
       "VBox()"
      ]
     },
     "metadata": {},
     "output_type": "display_data"
    },
    {
     "data": {
      "application/vnd.jupyter.widget-view+json": {
       "model_id": "",
       "version_major": 2,
       "version_minor": 0
      },
      "text/plain": [
       "FloatProgress(value=0.0, bar_style='info', description='Progress:', layout=Layout(height='25px', width='50%'),…"
      ]
     },
     "metadata": {},
     "output_type": "display_data"
    },
    {
     "name": "stdout",
     "output_type": "stream",
     "text": [
      "brandClass: org.apache.spark.broadcast.Broadcast[scala.collection.Map[String,String]] = Broadcast(61)\n"
     ]
    }
   ],
   "source": [
    "val brandClass = sc.broadcast(brandClassification.collectAsMap())"
   ]
  },
  {
   "cell_type": "code",
   "execution_count": 32,
   "id": "9c5e77d5",
   "metadata": {
    "execution": {
     "iopub.execute_input": "2023-06-11T17:15:57.993700Z",
     "iopub.status.busy": "2023-06-11T17:15:57.993344Z",
     "iopub.status.idle": "2023-06-11T17:16:11.306844Z",
     "shell.execute_reply": "2023-06-11T17:16:11.305980Z",
     "shell.execute_reply.started": "2023-06-11T17:15:57.993659Z"
    },
    "tags": []
   },
   "outputs": [
    {
     "data": {
      "application/vnd.jupyter.widget-view+json": {
       "model_id": "e8d75de58d9444ef963e267b2e6665e5",
       "version_major": 2,
       "version_minor": 0
      },
      "text/plain": [
       "VBox()"
      ]
     },
     "metadata": {},
     "output_type": "display_data"
    },
    {
     "data": {
      "application/vnd.jupyter.widget-view+json": {
       "model_id": "",
       "version_major": 2,
       "version_minor": 0
      },
      "text/plain": [
       "FloatProgress(value=0.0, bar_style='info', description='Progress:', layout=Layout(height='25px', width='50%'),…"
      ]
     },
     "metadata": {},
     "output_type": "display_data"
    },
    {
     "name": "stdout",
     "output_type": "stream",
     "text": [
      "rddValueWithBroad: Unit = ()\n"
     ]
    }
   ],
   "source": [
    "//brand, categoryCode, price\n",
    "val rddValueWithBroad = rddEvents.map(x => (x._4, (x._3, x._5))).\n",
    "                         map(x => (x._1, (x._2, brandClass.value.get(x._1)))). // (brand,((categoryCode, price),(category)))\n",
    "                         flatMap(x=> x._2._1._1.split('.'). // (brand,((categoryCode_main, categoryCode.sub, price),(category)))\n",
    "                         map(y => ((y, x._2._2, x._1), x._2._1._2))). //((categoryCode, category, brand), price)\n",
    "                         aggregateByKey((0.0,0))((agg, v) => (agg._1 + v, agg._2 + 1),((agg1,agg2) => (agg1._1 + agg2._1, agg1._2 + agg2._2))). // ((categoryCode, category, brand), value, count)\n",
    "                         map(x => (x._1._1, x._1._2, x._1._3, x._2._1, x._2._2)). //categoryCode, category, brand, value, count\n",
    "                         collect()\n",
    "                         //coalesce(1).toDF().write.format(\"csv\").mode(SaveMode.Overwrite).save(path_ComplexQuery01_02)"
   ]
  },
  {
   "cell_type": "markdown",
   "id": "56f3aae1",
   "metadata": {},
   "source": [
    "### Tempi di esecuzione"
   ]
  },
  {
   "cell_type": "markdown",
   "id": "9808e54b-7dad-4737-a051-d0771c64f118",
   "metadata": {},
   "source": [
    "![job2_broad_comp.PNG](images/job2_broad_comp.PNG)\n",
    "![job_2workflow.PNG](images/job_2workflow.PNG)\n",
    "![job_2workflow_dag.PNG](images/job_2workflow_dag.PNG)"
   ]
  },
  {
   "cell_type": "markdown",
   "id": "89044706",
   "metadata": {},
   "source": [
    "L'uso di una variabile di broadcast migliora le performance nell'esecuzione dei task, come evidenziato dai risultati ottenuti. Ciò è dovuto al fatto che l'impiego di questa variabile consente di trasferire una quantità inferiore di dati sulla rete, riducendo così anche gli stage che compongono la computazione (due al posto di 4). Di conseguenza, si ottiene un miglioramento delle prestazioni complessive, grazie alla riduzione del carico di trasferimento dei dati e alla maggiore efficienza nell'esecuzione delle operazioni, nonostante la quantità di dati in input sia la stessa. Il **tempo di esecuzione medio** si è abbassato a **11 secondi**.\n",
    "\n",
    "Nonostante il cluster utilizzato sia composto di macchine molto performanti, si può notare un significativo guadagno in termini di performance nei due test appena condotti. Questa situazione evidenzia l'importanza di ottimizzare le performance e l'utilizzo delle risorse in ambito lavorativo, dove i costi associati all'uso di una determinata configurazione cluster possono essere significativi: a differenza dell'ambito accademico o di testing, dove non ci sono conseguenze finanziarie dirette, è fondamentale implementare miglioramenti a livello di codice per massimizzare l'efficienza computazionale e minimizzare le risorse necessarie per eseguire determinate operazioni. Questo può comportare un risparmio in termini di tempo e di denaro, migliorando l'efficacia complessiva del sistema."
   ]
  },
  {
   "cell_type": "markdown",
   "id": "46be2b44",
   "metadata": {},
   "source": [
    "### Incassi totali generati dalle vendite per ogni combinazione di Classe e Brand\n",
    "\n",
    "In questa analisi alternativa sono state applicate in maniera **congiunta** le pratiche migliori, citate precedentemente, per la definizione di un job computazionalmente pesante. Si è adottato un approccio in cui le operazioni di aggregazione sono state eseguite preventivamente, e si è fatto uso di una variabile broadcast al posto dell'operazione di Join. Questa scelta è stata motivata, come abbiamo già visto, dall'obiettivo di ridurre il traffico di rete e migliorare ulteriormente le performance complessive del processo. Si sono messi in paragone le due modalità di analisi sui dati per valutare il guadagno in termini di performance."
   ]
  },
  {
   "cell_type": "markdown",
   "id": "34d1d313",
   "metadata": {},
   "source": [
    "### Join"
   ]
  },
  {
   "cell_type": "code",
   "execution_count": 33,
   "id": "733e47a7",
   "metadata": {
    "execution": {
     "iopub.execute_input": "2023-06-11T17:19:41.066954Z",
     "iopub.status.busy": "2023-06-11T17:19:41.066622Z",
     "iopub.status.idle": "2023-06-11T17:20:06.419084Z",
     "shell.execute_reply": "2023-06-11T17:20:06.418257Z",
     "shell.execute_reply.started": "2023-06-11T17:19:41.066924Z"
    },
    "tags": []
   },
   "outputs": [
    {
     "data": {
      "application/vnd.jupyter.widget-view+json": {
       "model_id": "26c1fb47e5af429ea435485cf2743979",
       "version_major": 2,
       "version_minor": 0
      },
      "text/plain": [
       "VBox()"
      ]
     },
     "metadata": {},
     "output_type": "display_data"
    },
    {
     "data": {
      "application/vnd.jupyter.widget-view+json": {
       "model_id": "",
       "version_major": 2,
       "version_minor": 0
      },
      "text/plain": [
       "FloatProgress(value=0.0, bar_style='info', description='Progress:', layout=Layout(height='25px', width='50%'),…"
      ]
     },
     "metadata": {},
     "output_type": "display_data"
    },
    {
     "name": "stdout",
     "output_type": "stream",
     "text": [
      "cashInTot: Unit = ()\n"
     ]
    }
   ],
   "source": [
    "// (brand, ((categoryCode, mode, price), category))\n",
    "val cashInTot = rddEvents.map(x => (x._4, (x._3, x._2, x._5))).join(brandClassification).filter(x => x._2._1._2 == \"purchase\"). \n",
    "                          map(x => ((x._2._2, x._1), x._2._1._3)). //((category, brand), price)\n",
    "                          aggregateByKey((0.0,0))((agg, v) => (agg._1 + v, agg._2 + 1),((agg1,agg2) => (agg1._1 + agg2._1, agg1._2 + agg2._2))). // ((category, brand), cash-in, count)\n",
    "                          map(x => (x._1._1, x._1._2, x._2._1, x._2._2)). //category, brand, cash-in, count\n",
    "                          collect()\n",
    "                          //coalesce(1).toDF().write.format(\"csv\").mode(SaveMode.Overwrite).save(path_ComplexQuery02_01)"
   ]
  },
  {
   "cell_type": "markdown",
   "id": "840e52a9-7c40-4d11-aa79-b262f3c92468",
   "metadata": {},
   "source": [
    "**Tempo di esecuzione medio** di **24 secondi**"
   ]
  },
  {
   "cell_type": "markdown",
   "id": "57e9eba6-2598-49b6-9537-f4083ea2ec61",
   "metadata": {},
   "source": [
    "![job_alt_1.PNG](images/job_alt_1.PNG)"
   ]
  },
  {
   "cell_type": "markdown",
   "id": "d6a5f99e",
   "metadata": {},
   "source": [
    "### Broadcast"
   ]
  },
  {
   "cell_type": "code",
   "execution_count": 34,
   "id": "e64ad495",
   "metadata": {
    "execution": {
     "iopub.execute_input": "2023-06-11T17:21:22.998686Z",
     "iopub.status.busy": "2023-06-11T17:21:22.998377Z",
     "iopub.status.idle": "2023-06-11T17:21:26.284553Z",
     "shell.execute_reply": "2023-06-11T17:21:26.283810Z",
     "shell.execute_reply.started": "2023-06-11T17:21:22.998661Z"
    },
    "tags": []
   },
   "outputs": [
    {
     "data": {
      "application/vnd.jupyter.widget-view+json": {
       "model_id": "cb1c0fd6ec734e6b824db5c7561ea086",
       "version_major": 2,
       "version_minor": 0
      },
      "text/plain": [
       "VBox()"
      ]
     },
     "metadata": {},
     "output_type": "display_data"
    },
    {
     "data": {
      "application/vnd.jupyter.widget-view+json": {
       "model_id": "",
       "version_major": 2,
       "version_minor": 0
      },
      "text/plain": [
       "FloatProgress(value=0.0, bar_style='info', description='Progress:', layout=Layout(height='25px', width='50%'),…"
      ]
     },
     "metadata": {},
     "output_type": "display_data"
    },
    {
     "name": "stdout",
     "output_type": "stream",
     "text": [
      "cashInTotBroad: Unit = ()\n"
     ]
    }
   ],
   "source": [
    "//(brand, categoryCode), price\n",
    "val cashInTotBroad = rddEvents.filter(x => x._2 == \"purchase\").\n",
    "    map(x => ((x._4, x._3), (x._5, 1))). //(brand, categoryCode)(price, count)\n",
    "    reduceByKey((x,y) => (x._1 + y._1, x._2 + y._2)). // (brand, categoryCode),(price, totCount))\n",
    "    map(x => ((brandClass.value.get(x._1._1), x._1._1), x._2)). //(category, brand),(price, count)\n",
    "    reduceByKey((x,y) => (x._1 + y._1, x._2 + y._2)). // ((category, brand),(cash-in, count))\n",
    "    map(x => (x._1._1, x._1._2, x._2._1, x._2._2)). // category, brandClass, cash-in, count\n",
    "    collect()\n",
    "    //coalesce(1).toDF().write.format(\"csv\").mode(SaveMode.Overwrite).save(path_ComplexQuery02_02)"
   ]
  },
  {
   "cell_type": "markdown",
   "id": "ba4a6a0a-a69b-48ec-9d1d-19911fc171cc",
   "metadata": {},
   "source": [
    "**Tempo di esecuzione medio** di **2 secondi**"
   ]
  },
  {
   "cell_type": "markdown",
   "id": "1e044c84-56f0-43ff-bc44-3846eccbcc63",
   "metadata": {},
   "source": [
    "![job_alt_2.PNG](images/job_alt_2.PNG)"
   ]
  },
  {
   "cell_type": "markdown",
   "id": "65e5c5f2-fbc2-4586-a776-b622f9111ebf",
   "metadata": {},
   "source": [
    "In questo esempio si può apprezzare appieno il potere dell'utilizzo combinato delle aggregazioni/operazioni di filtraggio e delle variabili di broadcast. Infatti, viene eseguita un'aggregazione sui dati prima di utilizzare la variabile di broadcast per recuperare la classe di appartenenza di ogni brand. &Egrave; evidente come, rispetto all'esempio precedente con il join, in cui era necessario accedere a 20GB di dati (definiti da più di 67 milioni di record), ora si deve accedere solo a 2.5MB di dati, che corrispondono a circa il 99.9% di volume in meno."
   ]
  },
  {
   "cell_type": "markdown",
   "id": "c0e82e36",
   "metadata": {},
   "source": [
    "### Raggruppamento dei Brand sulla base della CategoryCode e della Classe\n",
    "Come ultima query complessa si è deciso di effettuare un'analisi che fornisca informazioni utili sulle combinazioni di categoryCode e class associate a un **insieme di brand**, consentendo di comprendere quali brand sono presenti in diverse categorie e sottocategorie di prodotti. Complessivamente, l'analisi fornisce un quadro sulla relazione tra brand, categoryCode e brandClass, consentendo di comprendere meglio la distribuzione dei brand nelle diverse combinazioni di categorie e di individuare pattern o associazioni significative tra di loro. Le informazioni sulla distribuzione dei brand possono essere utilizzate per effettuare ulteriori analisi di aggregazione o filtraggio, ad esempio si può valutare la distribuzione dei brand all'interno delle diverse combinazioni di categoryCode e category, identificando quelle con un numero elevato di brand e quelle meno rappresentate."
   ]
  },
  {
   "cell_type": "markdown",
   "id": "9d4f3984",
   "metadata": {},
   "source": [
    "### Join"
   ]
  },
  {
   "cell_type": "code",
   "execution_count": 35,
   "id": "46acc564",
   "metadata": {
    "execution": {
     "iopub.execute_input": "2023-06-11T17:22:30.748048Z",
     "iopub.status.busy": "2023-06-11T17:22:30.747733Z",
     "iopub.status.idle": "2023-06-11T17:22:58.095424Z",
     "shell.execute_reply": "2023-06-11T17:22:58.094630Z",
     "shell.execute_reply.started": "2023-06-11T17:22:30.748020Z"
    },
    "tags": []
   },
   "outputs": [
    {
     "data": {
      "application/vnd.jupyter.widget-view+json": {
       "model_id": "3f60e18093b74cd4a11d273c296c34a6",
       "version_major": 2,
       "version_minor": 0
      },
      "text/plain": [
       "VBox()"
      ]
     },
     "metadata": {},
     "output_type": "display_data"
    },
    {
     "data": {
      "application/vnd.jupyter.widget-view+json": {
       "model_id": "",
       "version_major": 2,
       "version_minor": 0
      },
      "text/plain": [
       "FloatProgress(value=0.0, bar_style='info', description='Progress:', layout=Layout(height='25px', width='50%'),…"
      ]
     },
     "metadata": {},
     "output_type": "display_data"
    },
    {
     "name": "stdout",
     "output_type": "stream",
     "text": [
      "brandByCatClass: Unit = ()\n"
     ]
    }
   ],
   "source": [
    "//brand, categoryCode\n",
    "val brandByCatClass = rddEvents.map(x => (x._4, x._3)).\n",
    "                        join(brandClassification). // (brand,(categoryCode, category)\n",
    "                        flatMap(x => x._2._1.split('.'). // (brand,((categoryCode_main, categoryCode.sub),(category)))\n",
    "                        map(y => ((y, x._2._2), x._1))). //((categoryCode, category), brand)\n",
    "                        distinct.    \n",
    "                        groupByKey().\n",
    "                        map(x => (x._1._1, x._1._2, x._2.toList.mkString(\",\"))).\n",
    "                        coalesce(1).toDF().write.format(\"csv\").mode(SaveMode.Overwrite).save(path_ComplexQuery03_01)"
   ]
  },
  {
   "cell_type": "markdown",
   "id": "dfad1953-ded6-4391-bc8c-7d6ee0f900c1",
   "metadata": {},
   "source": [
    "**Tempo di esecuzione medio** di **25 secondi**"
   ]
  },
  {
   "cell_type": "markdown",
   "id": "b1baede3-436d-4704-874a-f927f90f4988",
   "metadata": {},
   "source": [
    "![job_alt2_1.PNG](images/job_alt2_1.PNG)"
   ]
  },
  {
   "cell_type": "markdown",
   "id": "f4c0e13c",
   "metadata": {},
   "source": [
    "### Broadcast"
   ]
  },
  {
   "cell_type": "code",
   "execution_count": 36,
   "id": "c7317bab",
   "metadata": {
    "execution": {
     "iopub.execute_input": "2023-06-11T17:24:00.921349Z",
     "iopub.status.busy": "2023-06-11T17:24:00.921033Z",
     "iopub.status.idle": "2023-06-11T17:24:12.224577Z",
     "shell.execute_reply": "2023-06-11T17:24:12.223833Z",
     "shell.execute_reply.started": "2023-06-11T17:24:00.921322Z"
    },
    "tags": []
   },
   "outputs": [
    {
     "data": {
      "application/vnd.jupyter.widget-view+json": {
       "model_id": "b4ba41798ce1444794e5a6230c590f13",
       "version_major": 2,
       "version_minor": 0
      },
      "text/plain": [
       "VBox()"
      ]
     },
     "metadata": {},
     "output_type": "display_data"
    },
    {
     "data": {
      "application/vnd.jupyter.widget-view+json": {
       "model_id": "",
       "version_major": 2,
       "version_minor": 0
      },
      "text/plain": [
       "FloatProgress(value=0.0, bar_style='info', description='Progress:', layout=Layout(height='25px', width='50%'),…"
      ]
     },
     "metadata": {},
     "output_type": "display_data"
    },
    {
     "name": "stdout",
     "output_type": "stream",
     "text": [
      "brandByCatClassBroad: Unit = ()\n"
     ]
    }
   ],
   "source": [
    "//brand, categoryCode\n",
    "val brandByCatClassBroad = rddEvents.map(x => (x._4, x._3)).\n",
    "                             map(x => (x._1, (x._2, brandClass.value.get(x._1)))). // (brand,((categoryCode, category)))\n",
    "                             flatMap(x=> x._2._1.split('.'). // (brand,((categoryCode_main, categoryCode.sub, price),(category)))\n",
    "                             map(y => ((y, x._2._2), x._1))). //((categoryCode, category), brand)\n",
    "                             distinct.\n",
    "                             groupByKey().\n",
    "                             map(x => (x._1._1, x._1._2, x._2.toList.mkString(\",\"))).\n",
    "                             coalesce(1).toDF().write.format(\"csv\").mode(SaveMode.Overwrite).save(path_ComplexQuery03_02)"
   ]
  },
  {
   "cell_type": "markdown",
   "id": "e20b9dc7-5a2e-4fc4-99f7-760119270969",
   "metadata": {},
   "source": [
    "**Tempo di esecuzione medio** di **10 secondi**"
   ]
  },
  {
   "cell_type": "markdown",
   "id": "1867d412-b2fc-4a62-9539-8b435f348950",
   "metadata": {},
   "source": [
    "![job_alt2_2.PNG](images/job_alt2_2.PNG)"
   ]
  },
  {
   "cell_type": "markdown",
   "id": "641e2476",
   "metadata": {},
   "source": [
    "## Tableau Desktop\n",
    "\n",
    "Tableau Desktop è un software di visualizzazione dei dati che consente di creare grafici interattivi, dashboard e report per analizzare e presentare i dati in modo efficace. È uno strumento ampiamente utilizzato nel campo della Business Intelligence e dell'analisi dei dati. \n",
    "Nell'immagine sottostante è possibile osservare la rappresentazione grafica dei dati tramite una heatmap. Questa visualizzazione è stata generata manipolando le informazioni ottenute dal precedente processo di esecuzione denominato **\"Raggruppamento dei Brand sulla base della CategoryCode e della Classe\"**.\n",
    "Una heatmap, come si può ben capire, è una visualizzazione grafica che rappresenta i dati in forma di matrice colorata, dove i colori sono utilizzati per evidenziare le differenze nella distribuzione dei dati.\n",
    "\n",
    "Per ottenere tale risultato è stato necessario creare un `Campo Calcoalto`, chiamato `BrandXCategoryClass`, che consente di contare il numero di elementi separati da virgole nelle stringhe della colonna *\"Brand\"*.\n",
    "\n",
    "La formula è definita come `IF ISNULL([Brand]) THEN 0 ELSE LEN([Brand]) - LEN(REPLACE([Brand], ',', '')) + 1 END`: \n",
    "\n",
    "- IF ISNULL([Brand]) THEN 0 ELSE ... END: verifica se il valore nella colonna è nullo. Se lo è, restituisce 0 come risultato. Altrimenti, passa alla parte successiva della formula.\n",
    "- LEN([Brand]) - LEN(REPLACE([Brand], ',', '')): calcola la differenza tra la lunghezza totale della stringa e la lunghezza della stessa senza le virgole. In questo modo è possibile calcolare il numero di virgole presenti nella stringa.\n",
    "    - E&grave; necessario aggiunge 1 al risultato ottenuto perché il numero totale di elementi separati da virgole in una stringa è uguale al numero di virgole più uno.\n",
    "\n",
    "Dai risultati ottenuti, si può osservare una distribuzione dei brand basata sulla relazione tra le categorie di appartenenza e il loro criterio di classificazione. In particolare, concentriamoci sull'esempio degli \"accessori\". La distribuzione dei brand che vendono prodotti appartenenti alla categoria \"accessori\" mostra una netta prevalenza di prodotti a basso costo. Solo alcuni di questi brand sono classificati come fornitori di accessori \"High-end brand\", con un prezzo più elevato. Questa distribuzione riflette la situazione attuale del mercato degli accessori, in cui la maggioranza dei brand offre prodotti a prezzi contenuti. Se consideriamo invece la categoria \"bicycle\", notiamo una distribuzione abbastanza equilibrata tra i brand che offrono biciclette. Questo ci permette di comprendere la distribuzione dei brand, sia di nicchia che non, che forniscono prodotti specifici in una determinata categoria e a quale fascia di prezzo appartengono tali prodotti."
   ]
  },
  {
   "cell_type": "markdown",
   "id": "509d0530-cafc-4e34-a552-544ebcd3c850",
   "metadata": {},
   "source": [
    "\n",
    "![tableau.PNG](images/tableau.PNG)"
   ]
  }
 ],
 "metadata": {
  "kernelspec": {
   "display_name": "Spark",
   "language": "scala",
   "name": "sparkkernel"
  },
  "language_info": {
   "codemirror_mode": "text/x-scala",
   "file_extension": ".sc",
   "mimetype": "text/x-scala",
   "name": "scala",
   "pygments_lexer": "scala"
  }
 },
 "nbformat": 4,
 "nbformat_minor": 5
}
